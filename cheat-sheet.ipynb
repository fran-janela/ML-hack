{
 "cells": [
  {
   "cell_type": "markdown",
   "metadata": {},
   "source": [
    "# Resumão de Aplicação dos conceitos básicos de Machine Learning"
   ]
  },
  {
   "cell_type": "code",
   "execution_count": 1,
   "metadata": {},
   "outputs": [],
   "source": [
    "%matplotlib inline\n",
    "from pprint import pprint\n",
    "\n",
    "import pandas as pd\n",
    "\n",
    "import matplotlib.pyplot as plt\n",
    "import numpy as np\n",
    "\n",
    "from sklearn.linear_model import LinearRegression\n",
    "from sklearn.pipeline import Pipeline\n",
    "from sklearn.preprocessing import PolynomialFeatures, StandardScaler\n",
    "from sklearn.impute import SimpleImputer\n",
    "from sklearn.model_selection import train_test_split\n",
    "from sklearn.preprocessing import OneHotEncoder\n",
    "from sklearn.compose import ColumnTransformer"
   ]
  },
  {
   "cell_type": "code",
   "execution_count": 2,
   "metadata": {},
   "outputs": [],
   "source": [
    "RAND_SEED = 42\n",
    "np.random.seed(RAND_SEED)"
   ]
  },
  {
   "cell_type": "code",
   "execution_count": 3,
   "metadata": {},
   "outputs": [],
   "source": [
    "df = pd.read_csv(\"states_all.csv\")"
   ]
  },
  {
   "cell_type": "code",
   "execution_count": 4,
   "metadata": {},
   "outputs": [
    {
     "data": {
      "text/html": [
       "<div>\n",
       "<style scoped>\n",
       "    .dataframe tbody tr th:only-of-type {\n",
       "        vertical-align: middle;\n",
       "    }\n",
       "\n",
       "    .dataframe tbody tr th {\n",
       "        vertical-align: top;\n",
       "    }\n",
       "\n",
       "    .dataframe thead th {\n",
       "        text-align: right;\n",
       "    }\n",
       "</style>\n",
       "<table border=\"1\" class=\"dataframe\">\n",
       "  <thead>\n",
       "    <tr style=\"text-align: right;\">\n",
       "      <th></th>\n",
       "      <th>count</th>\n",
       "      <th>mean</th>\n",
       "      <th>std</th>\n",
       "      <th>min</th>\n",
       "      <th>25%</th>\n",
       "      <th>50%</th>\n",
       "      <th>75%</th>\n",
       "      <th>max</th>\n",
       "    </tr>\n",
       "  </thead>\n",
       "  <tbody>\n",
       "    <tr>\n",
       "      <th>YEAR</th>\n",
       "      <td>1492.0</td>\n",
       "      <td>2.004434e+03</td>\n",
       "      <td>7.393983e+00</td>\n",
       "      <td>1992.000000</td>\n",
       "      <td>1.998000e+03</td>\n",
       "      <td>2.004000e+03</td>\n",
       "      <td>2.011000e+03</td>\n",
       "      <td>2.017000e+03</td>\n",
       "    </tr>\n",
       "    <tr>\n",
       "      <th>ENROLL</th>\n",
       "      <td>1229.0</td>\n",
       "      <td>9.159308e+05</td>\n",
       "      <td>1.065280e+06</td>\n",
       "      <td>43866.000000</td>\n",
       "      <td>2.583140e+05</td>\n",
       "      <td>6.483130e+05</td>\n",
       "      <td>1.014528e+06</td>\n",
       "      <td>6.307022e+06</td>\n",
       "    </tr>\n",
       "    <tr>\n",
       "      <th>TOTAL_REVENUE</th>\n",
       "      <td>1280.0</td>\n",
       "      <td>9.092082e+06</td>\n",
       "      <td>1.174519e+07</td>\n",
       "      <td>465650.000000</td>\n",
       "      <td>2.186305e+06</td>\n",
       "      <td>5.079546e+06</td>\n",
       "      <td>1.085985e+07</td>\n",
       "      <td>8.921726e+07</td>\n",
       "    </tr>\n",
       "    <tr>\n",
       "      <th>FEDERAL_REVENUE</th>\n",
       "      <td>1280.0</td>\n",
       "      <td>7.663723e+05</td>\n",
       "      <td>1.145242e+06</td>\n",
       "      <td>31020.000000</td>\n",
       "      <td>1.893540e+05</td>\n",
       "      <td>4.033765e+05</td>\n",
       "      <td>8.289660e+05</td>\n",
       "      <td>9.990221e+06</td>\n",
       "    </tr>\n",
       "    <tr>\n",
       "      <th>STATE_REVENUE</th>\n",
       "      <td>1280.0</td>\n",
       "      <td>4.216553e+06</td>\n",
       "      <td>5.543072e+06</td>\n",
       "      <td>0.000000</td>\n",
       "      <td>1.153097e+06</td>\n",
       "      <td>2.537074e+06</td>\n",
       "      <td>5.080939e+06</td>\n",
       "      <td>5.090457e+07</td>\n",
       "    </tr>\n",
       "    <tr>\n",
       "      <th>LOCAL_REVENUE</th>\n",
       "      <td>1280.0</td>\n",
       "      <td>4.109157e+06</td>\n",
       "      <td>5.482971e+06</td>\n",
       "      <td>22093.000000</td>\n",
       "      <td>7.158345e+05</td>\n",
       "      <td>2.055780e+06</td>\n",
       "      <td>4.768680e+06</td>\n",
       "      <td>3.610526e+07</td>\n",
       "    </tr>\n",
       "    <tr>\n",
       "      <th>TOTAL_EXPENDITURE</th>\n",
       "      <td>1280.0</td>\n",
       "      <td>9.196681e+06</td>\n",
       "      <td>1.197813e+07</td>\n",
       "      <td>481665.000000</td>\n",
       "      <td>2.165404e+06</td>\n",
       "      <td>5.234506e+06</td>\n",
       "      <td>1.074519e+07</td>\n",
       "      <td>8.532013e+07</td>\n",
       "    </tr>\n",
       "    <tr>\n",
       "      <th>INSTRUCTION_EXPENDITURE</th>\n",
       "      <td>1280.0</td>\n",
       "      <td>4.762966e+06</td>\n",
       "      <td>6.293004e+06</td>\n",
       "      <td>265549.000000</td>\n",
       "      <td>1.168032e+06</td>\n",
       "      <td>2.657452e+06</td>\n",
       "      <td>5.568028e+06</td>\n",
       "      <td>4.396452e+07</td>\n",
       "    </tr>\n",
       "    <tr>\n",
       "      <th>SUPPORT_SERVICES_EXPENDITURE</th>\n",
       "      <td>1280.0</td>\n",
       "      <td>2.680331e+06</td>\n",
       "      <td>3.353349e+06</td>\n",
       "      <td>139963.000000</td>\n",
       "      <td>6.357900e+05</td>\n",
       "      <td>1.525406e+06</td>\n",
       "      <td>3.229651e+06</td>\n",
       "      <td>2.605802e+07</td>\n",
       "    </tr>\n",
       "    <tr>\n",
       "      <th>OTHER_EXPENDITURE</th>\n",
       "      <td>1229.0</td>\n",
       "      <td>4.292046e+05</td>\n",
       "      <td>5.340693e+05</td>\n",
       "      <td>11541.000000</td>\n",
       "      <td>1.028310e+05</td>\n",
       "      <td>2.715960e+05</td>\n",
       "      <td>5.186000e+05</td>\n",
       "      <td>3.995951e+06</td>\n",
       "    </tr>\n",
       "    <tr>\n",
       "      <th>CAPITAL_OUTLAY_EXPENDITURE</th>\n",
       "      <td>1280.0</td>\n",
       "      <td>9.027693e+05</td>\n",
       "      <td>1.327562e+06</td>\n",
       "      <td>12708.000000</td>\n",
       "      <td>1.815645e+05</td>\n",
       "      <td>5.102595e+05</td>\n",
       "      <td>9.668515e+05</td>\n",
       "      <td>1.022366e+07</td>\n",
       "    </tr>\n",
       "    <tr>\n",
       "      <th>GRADES_PK_G</th>\n",
       "      <td>1319.0</td>\n",
       "      <td>1.760161e+04</td>\n",
       "      <td>3.001617e+04</td>\n",
       "      <td>0.000000</td>\n",
       "      <td>2.021000e+03</td>\n",
       "      <td>8.106000e+03</td>\n",
       "      <td>2.229500e+04</td>\n",
       "      <td>2.509110e+05</td>\n",
       "    </tr>\n",
       "    <tr>\n",
       "      <th>GRADES_KG_G</th>\n",
       "      <td>1360.0</td>\n",
       "      <td>6.374676e+04</td>\n",
       "      <td>8.020514e+04</td>\n",
       "      <td>544.000000</td>\n",
       "      <td>1.174500e+04</td>\n",
       "      <td>4.159750e+04</td>\n",
       "      <td>7.386525e+04</td>\n",
       "      <td>5.305310e+05</td>\n",
       "    </tr>\n",
       "    <tr>\n",
       "      <th>GRADES_4_G</th>\n",
       "      <td>1361.0</td>\n",
       "      <td>6.453893e+04</td>\n",
       "      <td>8.029339e+04</td>\n",
       "      <td>633.000000</td>\n",
       "      <td>1.373900e+04</td>\n",
       "      <td>4.327200e+04</td>\n",
       "      <td>7.548100e+04</td>\n",
       "      <td>4.934150e+05</td>\n",
       "    </tr>\n",
       "    <tr>\n",
       "      <th>GRADES_8_G</th>\n",
       "      <td>1361.0</td>\n",
       "      <td>6.427106e+04</td>\n",
       "      <td>7.891055e+04</td>\n",
       "      <td>437.000000</td>\n",
       "      <td>1.334200e+04</td>\n",
       "      <td>4.333900e+04</td>\n",
       "      <td>7.656600e+04</td>\n",
       "      <td>5.001430e+05</td>\n",
       "    </tr>\n",
       "    <tr>\n",
       "      <th>GRADES_12_G</th>\n",
       "      <td>1361.0</td>\n",
       "      <td>5.426892e+04</td>\n",
       "      <td>6.788928e+04</td>\n",
       "      <td>311.000000</td>\n",
       "      <td>1.091900e+04</td>\n",
       "      <td>3.673500e+04</td>\n",
       "      <td>6.746000e+04</td>\n",
       "      <td>4.984030e+05</td>\n",
       "    </tr>\n",
       "    <tr>\n",
       "      <th>GRADES_1_8_G</th>\n",
       "      <td>1361.0</td>\n",
       "      <td>5.192140e+05</td>\n",
       "      <td>6.436384e+05</td>\n",
       "      <td>4878.000000</td>\n",
       "      <td>1.106260e+05</td>\n",
       "      <td>3.457750e+05</td>\n",
       "      <td>6.119050e+05</td>\n",
       "      <td>3.929869e+06</td>\n",
       "    </tr>\n",
       "    <tr>\n",
       "      <th>GRADES_9_12_G</th>\n",
       "      <td>1361.0</td>\n",
       "      <td>2.470714e+05</td>\n",
       "      <td>3.077056e+05</td>\n",
       "      <td>1808.000000</td>\n",
       "      <td>5.147100e+04</td>\n",
       "      <td>1.642600e+05</td>\n",
       "      <td>2.905020e+05</td>\n",
       "      <td>2.013687e+06</td>\n",
       "    </tr>\n",
       "    <tr>\n",
       "      <th>GRADES_ALL_G</th>\n",
       "      <td>1319.0</td>\n",
       "      <td>8.024415e+05</td>\n",
       "      <td>9.707031e+05</td>\n",
       "      <td>7254.000000</td>\n",
       "      <td>1.810650e+05</td>\n",
       "      <td>5.503420e+05</td>\n",
       "      <td>9.282755e+05</td>\n",
       "      <td>5.944746e+06</td>\n",
       "    </tr>\n",
       "    <tr>\n",
       "      <th>AVG_MATH_4_SCORE</th>\n",
       "      <td>536.0</td>\n",
       "      <td>2.347683e+02</td>\n",
       "      <td>1.022151e+01</td>\n",
       "      <td>187.134670</td>\n",
       "      <td>2.296944e+02</td>\n",
       "      <td>2.372386e+02</td>\n",
       "      <td>2.419955e+02</td>\n",
       "      <td>2.534210e+02</td>\n",
       "    </tr>\n",
       "    <tr>\n",
       "      <th>AVG_MATH_8_SCORE</th>\n",
       "      <td>532.0</td>\n",
       "      <td>2.784147e+02</td>\n",
       "      <td>1.015972e+01</td>\n",
       "      <td>232.831510</td>\n",
       "      <td>2.727616e+02</td>\n",
       "      <td>2.806188e+02</td>\n",
       "      <td>2.853474e+02</td>\n",
       "      <td>3.005682e+02</td>\n",
       "    </tr>\n",
       "    <tr>\n",
       "      <th>AVG_READING_4_SCORE</th>\n",
       "      <td>533.0</td>\n",
       "      <td>2.188662e+02</td>\n",
       "      <td>7.769616e+00</td>\n",
       "      <td>178.557612</td>\n",
       "      <td>2.146634e+02</td>\n",
       "      <td>2.204160e+02</td>\n",
       "      <td>2.239993e+02</td>\n",
       "      <td>2.367739e+02</td>\n",
       "    </tr>\n",
       "    <tr>\n",
       "      <th>AVG_READING_8_SCORE</th>\n",
       "      <td>498.0</td>\n",
       "      <td>2.636611e+02</td>\n",
       "      <td>6.803725e+00</td>\n",
       "      <td>236.379102</td>\n",
       "      <td>2.595332e+02</td>\n",
       "      <td>2.650109e+02</td>\n",
       "      <td>2.681901e+02</td>\n",
       "      <td>2.804991e+02</td>\n",
       "    </tr>\n",
       "  </tbody>\n",
       "</table>\n",
       "</div>"
      ],
      "text/plain": [
       "                               count          mean           std  \\\n",
       "YEAR                          1492.0  2.004434e+03  7.393983e+00   \n",
       "ENROLL                        1229.0  9.159308e+05  1.065280e+06   \n",
       "TOTAL_REVENUE                 1280.0  9.092082e+06  1.174519e+07   \n",
       "FEDERAL_REVENUE               1280.0  7.663723e+05  1.145242e+06   \n",
       "STATE_REVENUE                 1280.0  4.216553e+06  5.543072e+06   \n",
       "LOCAL_REVENUE                 1280.0  4.109157e+06  5.482971e+06   \n",
       "TOTAL_EXPENDITURE             1280.0  9.196681e+06  1.197813e+07   \n",
       "INSTRUCTION_EXPENDITURE       1280.0  4.762966e+06  6.293004e+06   \n",
       "SUPPORT_SERVICES_EXPENDITURE  1280.0  2.680331e+06  3.353349e+06   \n",
       "OTHER_EXPENDITURE             1229.0  4.292046e+05  5.340693e+05   \n",
       "CAPITAL_OUTLAY_EXPENDITURE    1280.0  9.027693e+05  1.327562e+06   \n",
       "GRADES_PK_G                   1319.0  1.760161e+04  3.001617e+04   \n",
       "GRADES_KG_G                   1360.0  6.374676e+04  8.020514e+04   \n",
       "GRADES_4_G                    1361.0  6.453893e+04  8.029339e+04   \n",
       "GRADES_8_G                    1361.0  6.427106e+04  7.891055e+04   \n",
       "GRADES_12_G                   1361.0  5.426892e+04  6.788928e+04   \n",
       "GRADES_1_8_G                  1361.0  5.192140e+05  6.436384e+05   \n",
       "GRADES_9_12_G                 1361.0  2.470714e+05  3.077056e+05   \n",
       "GRADES_ALL_G                  1319.0  8.024415e+05  9.707031e+05   \n",
       "AVG_MATH_4_SCORE               536.0  2.347683e+02  1.022151e+01   \n",
       "AVG_MATH_8_SCORE               532.0  2.784147e+02  1.015972e+01   \n",
       "AVG_READING_4_SCORE            533.0  2.188662e+02  7.769616e+00   \n",
       "AVG_READING_8_SCORE            498.0  2.636611e+02  6.803725e+00   \n",
       "\n",
       "                                        min           25%           50%  \\\n",
       "YEAR                            1992.000000  1.998000e+03  2.004000e+03   \n",
       "ENROLL                         43866.000000  2.583140e+05  6.483130e+05   \n",
       "TOTAL_REVENUE                 465650.000000  2.186305e+06  5.079546e+06   \n",
       "FEDERAL_REVENUE                31020.000000  1.893540e+05  4.033765e+05   \n",
       "STATE_REVENUE                      0.000000  1.153097e+06  2.537074e+06   \n",
       "LOCAL_REVENUE                  22093.000000  7.158345e+05  2.055780e+06   \n",
       "TOTAL_EXPENDITURE             481665.000000  2.165404e+06  5.234506e+06   \n",
       "INSTRUCTION_EXPENDITURE       265549.000000  1.168032e+06  2.657452e+06   \n",
       "SUPPORT_SERVICES_EXPENDITURE  139963.000000  6.357900e+05  1.525406e+06   \n",
       "OTHER_EXPENDITURE              11541.000000  1.028310e+05  2.715960e+05   \n",
       "CAPITAL_OUTLAY_EXPENDITURE     12708.000000  1.815645e+05  5.102595e+05   \n",
       "GRADES_PK_G                        0.000000  2.021000e+03  8.106000e+03   \n",
       "GRADES_KG_G                      544.000000  1.174500e+04  4.159750e+04   \n",
       "GRADES_4_G                       633.000000  1.373900e+04  4.327200e+04   \n",
       "GRADES_8_G                       437.000000  1.334200e+04  4.333900e+04   \n",
       "GRADES_12_G                      311.000000  1.091900e+04  3.673500e+04   \n",
       "GRADES_1_8_G                    4878.000000  1.106260e+05  3.457750e+05   \n",
       "GRADES_9_12_G                   1808.000000  5.147100e+04  1.642600e+05   \n",
       "GRADES_ALL_G                    7254.000000  1.810650e+05  5.503420e+05   \n",
       "AVG_MATH_4_SCORE                 187.134670  2.296944e+02  2.372386e+02   \n",
       "AVG_MATH_8_SCORE                 232.831510  2.727616e+02  2.806188e+02   \n",
       "AVG_READING_4_SCORE              178.557612  2.146634e+02  2.204160e+02   \n",
       "AVG_READING_8_SCORE              236.379102  2.595332e+02  2.650109e+02   \n",
       "\n",
       "                                       75%           max  \n",
       "YEAR                          2.011000e+03  2.017000e+03  \n",
       "ENROLL                        1.014528e+06  6.307022e+06  \n",
       "TOTAL_REVENUE                 1.085985e+07  8.921726e+07  \n",
       "FEDERAL_REVENUE               8.289660e+05  9.990221e+06  \n",
       "STATE_REVENUE                 5.080939e+06  5.090457e+07  \n",
       "LOCAL_REVENUE                 4.768680e+06  3.610526e+07  \n",
       "TOTAL_EXPENDITURE             1.074519e+07  8.532013e+07  \n",
       "INSTRUCTION_EXPENDITURE       5.568028e+06  4.396452e+07  \n",
       "SUPPORT_SERVICES_EXPENDITURE  3.229651e+06  2.605802e+07  \n",
       "OTHER_EXPENDITURE             5.186000e+05  3.995951e+06  \n",
       "CAPITAL_OUTLAY_EXPENDITURE    9.668515e+05  1.022366e+07  \n",
       "GRADES_PK_G                   2.229500e+04  2.509110e+05  \n",
       "GRADES_KG_G                   7.386525e+04  5.305310e+05  \n",
       "GRADES_4_G                    7.548100e+04  4.934150e+05  \n",
       "GRADES_8_G                    7.656600e+04  5.001430e+05  \n",
       "GRADES_12_G                   6.746000e+04  4.984030e+05  \n",
       "GRADES_1_8_G                  6.119050e+05  3.929869e+06  \n",
       "GRADES_9_12_G                 2.905020e+05  2.013687e+06  \n",
       "GRADES_ALL_G                  9.282755e+05  5.944746e+06  \n",
       "AVG_MATH_4_SCORE              2.419955e+02  2.534210e+02  \n",
       "AVG_MATH_8_SCORE              2.853474e+02  3.005682e+02  \n",
       "AVG_READING_4_SCORE           2.239993e+02  2.367739e+02  \n",
       "AVG_READING_8_SCORE           2.681901e+02  2.804991e+02  "
      ]
     },
     "execution_count": 4,
     "metadata": {},
     "output_type": "execute_result"
    }
   ],
   "source": [
    "df.describe().transpose()"
   ]
  },
  {
   "cell_type": "code",
   "execution_count": 5,
   "metadata": {},
   "outputs": [
    {
     "name": "stdout",
     "output_type": "stream",
     "text": [
      "<class 'pandas.core.frame.DataFrame'>\n",
      "RangeIndex: 1492 entries, 0 to 1491\n",
      "Data columns (total 25 columns):\n",
      " #   Column                        Non-Null Count  Dtype  \n",
      "---  ------                        --------------  -----  \n",
      " 0   PRIMARY_KEY                   1492 non-null   object \n",
      " 1   STATE                         1492 non-null   object \n",
      " 2   YEAR                          1492 non-null   int64  \n",
      " 3   ENROLL                        1229 non-null   float64\n",
      " 4   TOTAL_REVENUE                 1280 non-null   float64\n",
      " 5   FEDERAL_REVENUE               1280 non-null   float64\n",
      " 6   STATE_REVENUE                 1280 non-null   float64\n",
      " 7   LOCAL_REVENUE                 1280 non-null   float64\n",
      " 8   TOTAL_EXPENDITURE             1280 non-null   float64\n",
      " 9   INSTRUCTION_EXPENDITURE       1280 non-null   float64\n",
      " 10  SUPPORT_SERVICES_EXPENDITURE  1280 non-null   float64\n",
      " 11  OTHER_EXPENDITURE             1229 non-null   float64\n",
      " 12  CAPITAL_OUTLAY_EXPENDITURE    1280 non-null   float64\n",
      " 13  GRADES_PK_G                   1319 non-null   float64\n",
      " 14  GRADES_KG_G                   1360 non-null   float64\n",
      " 15  GRADES_4_G                    1361 non-null   float64\n",
      " 16  GRADES_8_G                    1361 non-null   float64\n",
      " 17  GRADES_12_G                   1361 non-null   float64\n",
      " 18  GRADES_1_8_G                  1361 non-null   float64\n",
      " 19  GRADES_9_12_G                 1361 non-null   float64\n",
      " 20  GRADES_ALL_G                  1319 non-null   float64\n",
      " 21  AVG_MATH_4_SCORE              536 non-null    float64\n",
      " 22  AVG_MATH_8_SCORE              532 non-null    float64\n",
      " 23  AVG_READING_4_SCORE           533 non-null    float64\n",
      " 24  AVG_READING_8_SCORE           498 non-null    float64\n",
      "dtypes: float64(22), int64(1), object(2)\n",
      "memory usage: 291.5+ KB\n"
     ]
    }
   ],
   "source": [
    "df.info()"
   ]
  },
  {
   "cell_type": "code",
   "execution_count": 6,
   "metadata": {},
   "outputs": [
    {
     "name": "stderr",
     "output_type": "stream",
     "text": [
      "/var/folders/8d/d5by2ryj0lb7mrtngnh40lzr0000gn/T/ipykernel_1076/1134722465.py:1: FutureWarning: The default value of numeric_only in DataFrame.corr is deprecated. In a future version, it will default to False. Select only valid columns or specify the value of numeric_only to silence this warning.\n",
      "  df.corr()\n"
     ]
    },
    {
     "data": {
      "text/html": [
       "<div>\n",
       "<style scoped>\n",
       "    .dataframe tbody tr th:only-of-type {\n",
       "        vertical-align: middle;\n",
       "    }\n",
       "\n",
       "    .dataframe tbody tr th {\n",
       "        vertical-align: top;\n",
       "    }\n",
       "\n",
       "    .dataframe thead th {\n",
       "        text-align: right;\n",
       "    }\n",
       "</style>\n",
       "<table border=\"1\" class=\"dataframe\">\n",
       "  <thead>\n",
       "    <tr style=\"text-align: right;\">\n",
       "      <th></th>\n",
       "      <th>YEAR</th>\n",
       "      <th>ENROLL</th>\n",
       "      <th>TOTAL_REVENUE</th>\n",
       "      <th>FEDERAL_REVENUE</th>\n",
       "      <th>STATE_REVENUE</th>\n",
       "      <th>LOCAL_REVENUE</th>\n",
       "      <th>TOTAL_EXPENDITURE</th>\n",
       "      <th>INSTRUCTION_EXPENDITURE</th>\n",
       "      <th>SUPPORT_SERVICES_EXPENDITURE</th>\n",
       "      <th>OTHER_EXPENDITURE</th>\n",
       "      <th>...</th>\n",
       "      <th>GRADES_4_G</th>\n",
       "      <th>GRADES_8_G</th>\n",
       "      <th>GRADES_12_G</th>\n",
       "      <th>GRADES_1_8_G</th>\n",
       "      <th>GRADES_9_12_G</th>\n",
       "      <th>GRADES_ALL_G</th>\n",
       "      <th>AVG_MATH_4_SCORE</th>\n",
       "      <th>AVG_MATH_8_SCORE</th>\n",
       "      <th>AVG_READING_4_SCORE</th>\n",
       "      <th>AVG_READING_8_SCORE</th>\n",
       "    </tr>\n",
       "  </thead>\n",
       "  <tbody>\n",
       "    <tr>\n",
       "      <th>YEAR</th>\n",
       "      <td>1.000000</td>\n",
       "      <td>0.033393</td>\n",
       "      <td>0.236281</td>\n",
       "      <td>0.275597</td>\n",
       "      <td>0.220017</td>\n",
       "      <td>0.226148</td>\n",
       "      <td>0.229592</td>\n",
       "      <td>0.228180</td>\n",
       "      <td>0.247312</td>\n",
       "      <td>0.194895</td>\n",
       "      <td>...</td>\n",
       "      <td>0.029005</td>\n",
       "      <td>0.042773</td>\n",
       "      <td>0.108582</td>\n",
       "      <td>0.030393</td>\n",
       "      <td>0.070147</td>\n",
       "      <td>0.037877</td>\n",
       "      <td>0.691727</td>\n",
       "      <td>0.490964</td>\n",
       "      <td>0.327086</td>\n",
       "      <td>0.201923</td>\n",
       "    </tr>\n",
       "    <tr>\n",
       "      <th>ENROLL</th>\n",
       "      <td>0.033393</td>\n",
       "      <td>1.000000</td>\n",
       "      <td>0.914077</td>\n",
       "      <td>0.893755</td>\n",
       "      <td>0.914520</td>\n",
       "      <td>0.846918</td>\n",
       "      <td>0.915009</td>\n",
       "      <td>0.880823</td>\n",
       "      <td>0.917537</td>\n",
       "      <td>0.953080</td>\n",
       "      <td>...</td>\n",
       "      <td>0.996449</td>\n",
       "      <td>0.997256</td>\n",
       "      <td>0.982295</td>\n",
       "      <td>0.997033</td>\n",
       "      <td>0.995357</td>\n",
       "      <td>0.997681</td>\n",
       "      <td>-0.005537</td>\n",
       "      <td>-0.037240</td>\n",
       "      <td>-0.067467</td>\n",
       "      <td>-0.006419</td>\n",
       "    </tr>\n",
       "    <tr>\n",
       "      <th>TOTAL_REVENUE</th>\n",
       "      <td>0.236281</td>\n",
       "      <td>0.914077</td>\n",
       "      <td>1.000000</td>\n",
       "      <td>0.928324</td>\n",
       "      <td>0.972590</td>\n",
       "      <td>0.964969</td>\n",
       "      <td>0.999024</td>\n",
       "      <td>0.990375</td>\n",
       "      <td>0.994848</td>\n",
       "      <td>0.947041</td>\n",
       "      <td>...</td>\n",
       "      <td>0.896201</td>\n",
       "      <td>0.909801</td>\n",
       "      <td>0.939828</td>\n",
       "      <td>0.898374</td>\n",
       "      <td>0.927197</td>\n",
       "      <td>0.906995</td>\n",
       "      <td>0.163007</td>\n",
       "      <td>0.111477</td>\n",
       "      <td>0.066415</td>\n",
       "      <td>0.020289</td>\n",
       "    </tr>\n",
       "    <tr>\n",
       "      <th>FEDERAL_REVENUE</th>\n",
       "      <td>0.275597</td>\n",
       "      <td>0.893755</td>\n",
       "      <td>0.928324</td>\n",
       "      <td>1.000000</td>\n",
       "      <td>0.920741</td>\n",
       "      <td>0.848877</td>\n",
       "      <td>0.928646</td>\n",
       "      <td>0.893734</td>\n",
       "      <td>0.931638</td>\n",
       "      <td>0.947427</td>\n",
       "      <td>...</td>\n",
       "      <td>0.868741</td>\n",
       "      <td>0.882337</td>\n",
       "      <td>0.924164</td>\n",
       "      <td>0.870636</td>\n",
       "      <td>0.901819</td>\n",
       "      <td>0.880561</td>\n",
       "      <td>0.123957</td>\n",
       "      <td>0.045111</td>\n",
       "      <td>-0.038412</td>\n",
       "      <td>0.010612</td>\n",
       "    </tr>\n",
       "    <tr>\n",
       "      <th>STATE_REVENUE</th>\n",
       "      <td>0.220017</td>\n",
       "      <td>0.914520</td>\n",
       "      <td>0.972590</td>\n",
       "      <td>0.920741</td>\n",
       "      <td>1.000000</td>\n",
       "      <td>0.880126</td>\n",
       "      <td>0.970056</td>\n",
       "      <td>0.954485</td>\n",
       "      <td>0.968782</td>\n",
       "      <td>0.950550</td>\n",
       "      <td>...</td>\n",
       "      <td>0.901051</td>\n",
       "      <td>0.913023</td>\n",
       "      <td>0.946841</td>\n",
       "      <td>0.902103</td>\n",
       "      <td>0.931911</td>\n",
       "      <td>0.909988</td>\n",
       "      <td>0.126164</td>\n",
       "      <td>0.070389</td>\n",
       "      <td>0.009954</td>\n",
       "      <td>0.017162</td>\n",
       "    </tr>\n",
       "    <tr>\n",
       "      <th>LOCAL_REVENUE</th>\n",
       "      <td>0.226148</td>\n",
       "      <td>0.846918</td>\n",
       "      <td>0.964969</td>\n",
       "      <td>0.848877</td>\n",
       "      <td>0.880126</td>\n",
       "      <td>1.000000</td>\n",
       "      <td>0.965373</td>\n",
       "      <td>0.969880</td>\n",
       "      <td>0.957090</td>\n",
       "      <td>0.869894</td>\n",
       "      <td>...</td>\n",
       "      <td>0.827283</td>\n",
       "      <td>0.841469</td>\n",
       "      <td>0.862819</td>\n",
       "      <td>0.830477</td>\n",
       "      <td>0.855557</td>\n",
       "      <td>0.838258</td>\n",
       "      <td>0.195823</td>\n",
       "      <td>0.158581</td>\n",
       "      <td>0.140875</td>\n",
       "      <td>0.023968</td>\n",
       "    </tr>\n",
       "    <tr>\n",
       "      <th>TOTAL_EXPENDITURE</th>\n",
       "      <td>0.229592</td>\n",
       "      <td>0.915009</td>\n",
       "      <td>0.999024</td>\n",
       "      <td>0.928646</td>\n",
       "      <td>0.970056</td>\n",
       "      <td>0.965373</td>\n",
       "      <td>1.000000</td>\n",
       "      <td>0.991347</td>\n",
       "      <td>0.993314</td>\n",
       "      <td>0.946110</td>\n",
       "      <td>...</td>\n",
       "      <td>0.895994</td>\n",
       "      <td>0.909858</td>\n",
       "      <td>0.938650</td>\n",
       "      <td>0.898292</td>\n",
       "      <td>0.926939</td>\n",
       "      <td>0.906932</td>\n",
       "      <td>0.158988</td>\n",
       "      <td>0.108318</td>\n",
       "      <td>0.063147</td>\n",
       "      <td>0.022551</td>\n",
       "    </tr>\n",
       "    <tr>\n",
       "      <th>INSTRUCTION_EXPENDITURE</th>\n",
       "      <td>0.228180</td>\n",
       "      <td>0.880823</td>\n",
       "      <td>0.990375</td>\n",
       "      <td>0.893734</td>\n",
       "      <td>0.954485</td>\n",
       "      <td>0.969880</td>\n",
       "      <td>0.991347</td>\n",
       "      <td>1.000000</td>\n",
       "      <td>0.976889</td>\n",
       "      <td>0.909340</td>\n",
       "      <td>...</td>\n",
       "      <td>0.863424</td>\n",
       "      <td>0.876886</td>\n",
       "      <td>0.904203</td>\n",
       "      <td>0.865823</td>\n",
       "      <td>0.894244</td>\n",
       "      <td>0.872927</td>\n",
       "      <td>0.160238</td>\n",
       "      <td>0.112391</td>\n",
       "      <td>0.083314</td>\n",
       "      <td>0.030369</td>\n",
       "    </tr>\n",
       "    <tr>\n",
       "      <th>SUPPORT_SERVICES_EXPENDITURE</th>\n",
       "      <td>0.247312</td>\n",
       "      <td>0.917537</td>\n",
       "      <td>0.994848</td>\n",
       "      <td>0.931638</td>\n",
       "      <td>0.968782</td>\n",
       "      <td>0.957090</td>\n",
       "      <td>0.993314</td>\n",
       "      <td>0.976889</td>\n",
       "      <td>1.000000</td>\n",
       "      <td>0.953091</td>\n",
       "      <td>...</td>\n",
       "      <td>0.898693</td>\n",
       "      <td>0.912708</td>\n",
       "      <td>0.945662</td>\n",
       "      <td>0.900891</td>\n",
       "      <td>0.930590</td>\n",
       "      <td>0.910130</td>\n",
       "      <td>0.169020</td>\n",
       "      <td>0.115861</td>\n",
       "      <td>0.065281</td>\n",
       "      <td>0.018656</td>\n",
       "    </tr>\n",
       "    <tr>\n",
       "      <th>OTHER_EXPENDITURE</th>\n",
       "      <td>0.194895</td>\n",
       "      <td>0.953080</td>\n",
       "      <td>0.947041</td>\n",
       "      <td>0.947427</td>\n",
       "      <td>0.950550</td>\n",
       "      <td>0.869894</td>\n",
       "      <td>0.946110</td>\n",
       "      <td>0.909340</td>\n",
       "      <td>0.953091</td>\n",
       "      <td>1.000000</td>\n",
       "      <td>...</td>\n",
       "      <td>0.944652</td>\n",
       "      <td>0.953039</td>\n",
       "      <td>0.972466</td>\n",
       "      <td>0.946163</td>\n",
       "      <td>0.963824</td>\n",
       "      <td>0.952564</td>\n",
       "      <td>0.075517</td>\n",
       "      <td>0.011494</td>\n",
       "      <td>-0.029369</td>\n",
       "      <td>0.010578</td>\n",
       "    </tr>\n",
       "    <tr>\n",
       "      <th>CAPITAL_OUTLAY_EXPENDITURE</th>\n",
       "      <td>0.163861</td>\n",
       "      <td>0.918078</td>\n",
       "      <td>0.924618</td>\n",
       "      <td>0.907751</td>\n",
       "      <td>0.914944</td>\n",
       "      <td>0.866066</td>\n",
       "      <td>0.932447</td>\n",
       "      <td>0.896103</td>\n",
       "      <td>0.917782</td>\n",
       "      <td>0.921932</td>\n",
       "      <td>...</td>\n",
       "      <td>0.897765</td>\n",
       "      <td>0.910022</td>\n",
       "      <td>0.917379</td>\n",
       "      <td>0.899671</td>\n",
       "      <td>0.918992</td>\n",
       "      <td>0.907456</td>\n",
       "      <td>0.103311</td>\n",
       "      <td>0.047518</td>\n",
       "      <td>-0.021440</td>\n",
       "      <td>0.004543</td>\n",
       "    </tr>\n",
       "    <tr>\n",
       "      <th>GRADES_PK_G</th>\n",
       "      <td>0.170247</td>\n",
       "      <td>0.787561</td>\n",
       "      <td>0.725576</td>\n",
       "      <td>0.744584</td>\n",
       "      <td>0.662234</td>\n",
       "      <td>0.727718</td>\n",
       "      <td>0.729499</td>\n",
       "      <td>0.688322</td>\n",
       "      <td>0.730294</td>\n",
       "      <td>0.756137</td>\n",
       "      <td>...</td>\n",
       "      <td>0.788248</td>\n",
       "      <td>0.787044</td>\n",
       "      <td>0.756197</td>\n",
       "      <td>0.789187</td>\n",
       "      <td>0.775707</td>\n",
       "      <td>0.797493</td>\n",
       "      <td>0.119782</td>\n",
       "      <td>0.081304</td>\n",
       "      <td>0.005851</td>\n",
       "      <td>0.024013</td>\n",
       "    </tr>\n",
       "    <tr>\n",
       "      <th>GRADES_KG_G</th>\n",
       "      <td>0.036224</td>\n",
       "      <td>0.994111</td>\n",
       "      <td>0.892720</td>\n",
       "      <td>0.872568</td>\n",
       "      <td>0.899062</td>\n",
       "      <td>0.821012</td>\n",
       "      <td>0.892238</td>\n",
       "      <td>0.859473</td>\n",
       "      <td>0.896072</td>\n",
       "      <td>0.946845</td>\n",
       "      <td>...</td>\n",
       "      <td>0.997379</td>\n",
       "      <td>0.995009</td>\n",
       "      <td>0.978303</td>\n",
       "      <td>0.997511</td>\n",
       "      <td>0.991542</td>\n",
       "      <td>0.996745</td>\n",
       "      <td>-0.021388</td>\n",
       "      <td>-0.047546</td>\n",
       "      <td>-0.094092</td>\n",
       "      <td>-0.003172</td>\n",
       "    </tr>\n",
       "    <tr>\n",
       "      <th>GRADES_4_G</th>\n",
       "      <td>0.029005</td>\n",
       "      <td>0.996449</td>\n",
       "      <td>0.896201</td>\n",
       "      <td>0.868741</td>\n",
       "      <td>0.901051</td>\n",
       "      <td>0.827283</td>\n",
       "      <td>0.895994</td>\n",
       "      <td>0.863424</td>\n",
       "      <td>0.898693</td>\n",
       "      <td>0.944652</td>\n",
       "      <td>...</td>\n",
       "      <td>1.000000</td>\n",
       "      <td>0.997811</td>\n",
       "      <td>0.978405</td>\n",
       "      <td>0.999737</td>\n",
       "      <td>0.993427</td>\n",
       "      <td>0.998790</td>\n",
       "      <td>-0.021983</td>\n",
       "      <td>-0.044907</td>\n",
       "      <td>-0.087713</td>\n",
       "      <td>-0.005395</td>\n",
       "    </tr>\n",
       "    <tr>\n",
       "      <th>GRADES_8_G</th>\n",
       "      <td>0.042773</td>\n",
       "      <td>0.997256</td>\n",
       "      <td>0.909801</td>\n",
       "      <td>0.882337</td>\n",
       "      <td>0.913023</td>\n",
       "      <td>0.841469</td>\n",
       "      <td>0.909858</td>\n",
       "      <td>0.876886</td>\n",
       "      <td>0.912708</td>\n",
       "      <td>0.953039</td>\n",
       "      <td>...</td>\n",
       "      <td>0.997811</td>\n",
       "      <td>1.000000</td>\n",
       "      <td>0.984923</td>\n",
       "      <td>0.998666</td>\n",
       "      <td>0.997417</td>\n",
       "      <td>0.999330</td>\n",
       "      <td>-0.001670</td>\n",
       "      <td>-0.032015</td>\n",
       "      <td>-0.072821</td>\n",
       "      <td>-0.008824</td>\n",
       "    </tr>\n",
       "    <tr>\n",
       "      <th>GRADES_12_G</th>\n",
       "      <td>0.108582</td>\n",
       "      <td>0.982295</td>\n",
       "      <td>0.939828</td>\n",
       "      <td>0.924164</td>\n",
       "      <td>0.946841</td>\n",
       "      <td>0.862819</td>\n",
       "      <td>0.938650</td>\n",
       "      <td>0.904203</td>\n",
       "      <td>0.945662</td>\n",
       "      <td>0.972466</td>\n",
       "      <td>...</td>\n",
       "      <td>0.978405</td>\n",
       "      <td>0.984923</td>\n",
       "      <td>1.000000</td>\n",
       "      <td>0.979488</td>\n",
       "      <td>0.993857</td>\n",
       "      <td>0.984593</td>\n",
       "      <td>0.055255</td>\n",
       "      <td>0.021465</td>\n",
       "      <td>-0.031620</td>\n",
       "      <td>-0.003986</td>\n",
       "    </tr>\n",
       "    <tr>\n",
       "      <th>GRADES_1_8_G</th>\n",
       "      <td>0.030393</td>\n",
       "      <td>0.997033</td>\n",
       "      <td>0.898374</td>\n",
       "      <td>0.870636</td>\n",
       "      <td>0.902103</td>\n",
       "      <td>0.830477</td>\n",
       "      <td>0.898292</td>\n",
       "      <td>0.865823</td>\n",
       "      <td>0.900891</td>\n",
       "      <td>0.946163</td>\n",
       "      <td>...</td>\n",
       "      <td>0.999737</td>\n",
       "      <td>0.998666</td>\n",
       "      <td>0.979488</td>\n",
       "      <td>1.000000</td>\n",
       "      <td>0.994447</td>\n",
       "      <td>0.999344</td>\n",
       "      <td>-0.018618</td>\n",
       "      <td>-0.043314</td>\n",
       "      <td>-0.084583</td>\n",
       "      <td>-0.005831</td>\n",
       "    </tr>\n",
       "    <tr>\n",
       "      <th>GRADES_9_12_G</th>\n",
       "      <td>0.070147</td>\n",
       "      <td>0.995357</td>\n",
       "      <td>0.927197</td>\n",
       "      <td>0.901819</td>\n",
       "      <td>0.931911</td>\n",
       "      <td>0.855557</td>\n",
       "      <td>0.926939</td>\n",
       "      <td>0.894244</td>\n",
       "      <td>0.930590</td>\n",
       "      <td>0.963824</td>\n",
       "      <td>...</td>\n",
       "      <td>0.993427</td>\n",
       "      <td>0.997417</td>\n",
       "      <td>0.993857</td>\n",
       "      <td>0.994447</td>\n",
       "      <td>1.000000</td>\n",
       "      <td>0.996964</td>\n",
       "      <td>0.022175</td>\n",
       "      <td>-0.010550</td>\n",
       "      <td>-0.055256</td>\n",
       "      <td>-0.006702</td>\n",
       "    </tr>\n",
       "    <tr>\n",
       "      <th>GRADES_ALL_G</th>\n",
       "      <td>0.037877</td>\n",
       "      <td>0.997681</td>\n",
       "      <td>0.906995</td>\n",
       "      <td>0.880561</td>\n",
       "      <td>0.909988</td>\n",
       "      <td>0.838258</td>\n",
       "      <td>0.906932</td>\n",
       "      <td>0.872927</td>\n",
       "      <td>0.910130</td>\n",
       "      <td>0.952564</td>\n",
       "      <td>...</td>\n",
       "      <td>0.998790</td>\n",
       "      <td>0.999330</td>\n",
       "      <td>0.984593</td>\n",
       "      <td>0.999344</td>\n",
       "      <td>0.996964</td>\n",
       "      <td>1.000000</td>\n",
       "      <td>-0.002335</td>\n",
       "      <td>-0.028262</td>\n",
       "      <td>-0.066263</td>\n",
       "      <td>0.000117</td>\n",
       "    </tr>\n",
       "    <tr>\n",
       "      <th>AVG_MATH_4_SCORE</th>\n",
       "      <td>0.691727</td>\n",
       "      <td>-0.005537</td>\n",
       "      <td>0.163007</td>\n",
       "      <td>0.123957</td>\n",
       "      <td>0.126164</td>\n",
       "      <td>0.195823</td>\n",
       "      <td>0.158988</td>\n",
       "      <td>0.160238</td>\n",
       "      <td>0.169020</td>\n",
       "      <td>0.075517</td>\n",
       "      <td>...</td>\n",
       "      <td>-0.021983</td>\n",
       "      <td>-0.001670</td>\n",
       "      <td>0.055255</td>\n",
       "      <td>-0.018618</td>\n",
       "      <td>0.022175</td>\n",
       "      <td>-0.002335</td>\n",
       "      <td>1.000000</td>\n",
       "      <td>0.909345</td>\n",
       "      <td>0.801784</td>\n",
       "      <td>0.138204</td>\n",
       "    </tr>\n",
       "    <tr>\n",
       "      <th>AVG_MATH_8_SCORE</th>\n",
       "      <td>0.490964</td>\n",
       "      <td>-0.037240</td>\n",
       "      <td>0.111477</td>\n",
       "      <td>0.045111</td>\n",
       "      <td>0.070389</td>\n",
       "      <td>0.158581</td>\n",
       "      <td>0.108318</td>\n",
       "      <td>0.112391</td>\n",
       "      <td>0.115861</td>\n",
       "      <td>0.011494</td>\n",
       "      <td>...</td>\n",
       "      <td>-0.044907</td>\n",
       "      <td>-0.032015</td>\n",
       "      <td>0.021465</td>\n",
       "      <td>-0.043314</td>\n",
       "      <td>-0.010550</td>\n",
       "      <td>-0.028262</td>\n",
       "      <td>0.909345</td>\n",
       "      <td>1.000000</td>\n",
       "      <td>0.857002</td>\n",
       "      <td>0.112264</td>\n",
       "    </tr>\n",
       "    <tr>\n",
       "      <th>AVG_READING_4_SCORE</th>\n",
       "      <td>0.327086</td>\n",
       "      <td>-0.067467</td>\n",
       "      <td>0.066415</td>\n",
       "      <td>-0.038412</td>\n",
       "      <td>0.009954</td>\n",
       "      <td>0.140875</td>\n",
       "      <td>0.063147</td>\n",
       "      <td>0.083314</td>\n",
       "      <td>0.065281</td>\n",
       "      <td>-0.029369</td>\n",
       "      <td>...</td>\n",
       "      <td>-0.087713</td>\n",
       "      <td>-0.072821</td>\n",
       "      <td>-0.031620</td>\n",
       "      <td>-0.084583</td>\n",
       "      <td>-0.055256</td>\n",
       "      <td>-0.066263</td>\n",
       "      <td>0.801784</td>\n",
       "      <td>0.857002</td>\n",
       "      <td>1.000000</td>\n",
       "      <td>0.080567</td>\n",
       "    </tr>\n",
       "    <tr>\n",
       "      <th>AVG_READING_8_SCORE</th>\n",
       "      <td>0.201923</td>\n",
       "      <td>-0.006419</td>\n",
       "      <td>0.020289</td>\n",
       "      <td>0.010612</td>\n",
       "      <td>0.017162</td>\n",
       "      <td>0.023968</td>\n",
       "      <td>0.022551</td>\n",
       "      <td>0.030369</td>\n",
       "      <td>0.018656</td>\n",
       "      <td>0.010578</td>\n",
       "      <td>...</td>\n",
       "      <td>-0.005395</td>\n",
       "      <td>-0.008824</td>\n",
       "      <td>-0.003986</td>\n",
       "      <td>-0.005831</td>\n",
       "      <td>-0.006702</td>\n",
       "      <td>0.000117</td>\n",
       "      <td>0.138204</td>\n",
       "      <td>0.112264</td>\n",
       "      <td>0.080567</td>\n",
       "      <td>1.000000</td>\n",
       "    </tr>\n",
       "  </tbody>\n",
       "</table>\n",
       "<p>23 rows × 23 columns</p>\n",
       "</div>"
      ],
      "text/plain": [
       "                                  YEAR    ENROLL  TOTAL_REVENUE  \\\n",
       "YEAR                          1.000000  0.033393       0.236281   \n",
       "ENROLL                        0.033393  1.000000       0.914077   \n",
       "TOTAL_REVENUE                 0.236281  0.914077       1.000000   \n",
       "FEDERAL_REVENUE               0.275597  0.893755       0.928324   \n",
       "STATE_REVENUE                 0.220017  0.914520       0.972590   \n",
       "LOCAL_REVENUE                 0.226148  0.846918       0.964969   \n",
       "TOTAL_EXPENDITURE             0.229592  0.915009       0.999024   \n",
       "INSTRUCTION_EXPENDITURE       0.228180  0.880823       0.990375   \n",
       "SUPPORT_SERVICES_EXPENDITURE  0.247312  0.917537       0.994848   \n",
       "OTHER_EXPENDITURE             0.194895  0.953080       0.947041   \n",
       "CAPITAL_OUTLAY_EXPENDITURE    0.163861  0.918078       0.924618   \n",
       "GRADES_PK_G                   0.170247  0.787561       0.725576   \n",
       "GRADES_KG_G                   0.036224  0.994111       0.892720   \n",
       "GRADES_4_G                    0.029005  0.996449       0.896201   \n",
       "GRADES_8_G                    0.042773  0.997256       0.909801   \n",
       "GRADES_12_G                   0.108582  0.982295       0.939828   \n",
       "GRADES_1_8_G                  0.030393  0.997033       0.898374   \n",
       "GRADES_9_12_G                 0.070147  0.995357       0.927197   \n",
       "GRADES_ALL_G                  0.037877  0.997681       0.906995   \n",
       "AVG_MATH_4_SCORE              0.691727 -0.005537       0.163007   \n",
       "AVG_MATH_8_SCORE              0.490964 -0.037240       0.111477   \n",
       "AVG_READING_4_SCORE           0.327086 -0.067467       0.066415   \n",
       "AVG_READING_8_SCORE           0.201923 -0.006419       0.020289   \n",
       "\n",
       "                              FEDERAL_REVENUE  STATE_REVENUE  LOCAL_REVENUE  \\\n",
       "YEAR                                 0.275597       0.220017       0.226148   \n",
       "ENROLL                               0.893755       0.914520       0.846918   \n",
       "TOTAL_REVENUE                        0.928324       0.972590       0.964969   \n",
       "FEDERAL_REVENUE                      1.000000       0.920741       0.848877   \n",
       "STATE_REVENUE                        0.920741       1.000000       0.880126   \n",
       "LOCAL_REVENUE                        0.848877       0.880126       1.000000   \n",
       "TOTAL_EXPENDITURE                    0.928646       0.970056       0.965373   \n",
       "INSTRUCTION_EXPENDITURE              0.893734       0.954485       0.969880   \n",
       "SUPPORT_SERVICES_EXPENDITURE         0.931638       0.968782       0.957090   \n",
       "OTHER_EXPENDITURE                    0.947427       0.950550       0.869894   \n",
       "CAPITAL_OUTLAY_EXPENDITURE           0.907751       0.914944       0.866066   \n",
       "GRADES_PK_G                          0.744584       0.662234       0.727718   \n",
       "GRADES_KG_G                          0.872568       0.899062       0.821012   \n",
       "GRADES_4_G                           0.868741       0.901051       0.827283   \n",
       "GRADES_8_G                           0.882337       0.913023       0.841469   \n",
       "GRADES_12_G                          0.924164       0.946841       0.862819   \n",
       "GRADES_1_8_G                         0.870636       0.902103       0.830477   \n",
       "GRADES_9_12_G                        0.901819       0.931911       0.855557   \n",
       "GRADES_ALL_G                         0.880561       0.909988       0.838258   \n",
       "AVG_MATH_4_SCORE                     0.123957       0.126164       0.195823   \n",
       "AVG_MATH_8_SCORE                     0.045111       0.070389       0.158581   \n",
       "AVG_READING_4_SCORE                 -0.038412       0.009954       0.140875   \n",
       "AVG_READING_8_SCORE                  0.010612       0.017162       0.023968   \n",
       "\n",
       "                              TOTAL_EXPENDITURE  INSTRUCTION_EXPENDITURE  \\\n",
       "YEAR                                   0.229592                 0.228180   \n",
       "ENROLL                                 0.915009                 0.880823   \n",
       "TOTAL_REVENUE                          0.999024                 0.990375   \n",
       "FEDERAL_REVENUE                        0.928646                 0.893734   \n",
       "STATE_REVENUE                          0.970056                 0.954485   \n",
       "LOCAL_REVENUE                          0.965373                 0.969880   \n",
       "TOTAL_EXPENDITURE                      1.000000                 0.991347   \n",
       "INSTRUCTION_EXPENDITURE                0.991347                 1.000000   \n",
       "SUPPORT_SERVICES_EXPENDITURE           0.993314                 0.976889   \n",
       "OTHER_EXPENDITURE                      0.946110                 0.909340   \n",
       "CAPITAL_OUTLAY_EXPENDITURE             0.932447                 0.896103   \n",
       "GRADES_PK_G                            0.729499                 0.688322   \n",
       "GRADES_KG_G                            0.892238                 0.859473   \n",
       "GRADES_4_G                             0.895994                 0.863424   \n",
       "GRADES_8_G                             0.909858                 0.876886   \n",
       "GRADES_12_G                            0.938650                 0.904203   \n",
       "GRADES_1_8_G                           0.898292                 0.865823   \n",
       "GRADES_9_12_G                          0.926939                 0.894244   \n",
       "GRADES_ALL_G                           0.906932                 0.872927   \n",
       "AVG_MATH_4_SCORE                       0.158988                 0.160238   \n",
       "AVG_MATH_8_SCORE                       0.108318                 0.112391   \n",
       "AVG_READING_4_SCORE                    0.063147                 0.083314   \n",
       "AVG_READING_8_SCORE                    0.022551                 0.030369   \n",
       "\n",
       "                              SUPPORT_SERVICES_EXPENDITURE  OTHER_EXPENDITURE  \\\n",
       "YEAR                                              0.247312           0.194895   \n",
       "ENROLL                                            0.917537           0.953080   \n",
       "TOTAL_REVENUE                                     0.994848           0.947041   \n",
       "FEDERAL_REVENUE                                   0.931638           0.947427   \n",
       "STATE_REVENUE                                     0.968782           0.950550   \n",
       "LOCAL_REVENUE                                     0.957090           0.869894   \n",
       "TOTAL_EXPENDITURE                                 0.993314           0.946110   \n",
       "INSTRUCTION_EXPENDITURE                           0.976889           0.909340   \n",
       "SUPPORT_SERVICES_EXPENDITURE                      1.000000           0.953091   \n",
       "OTHER_EXPENDITURE                                 0.953091           1.000000   \n",
       "CAPITAL_OUTLAY_EXPENDITURE                        0.917782           0.921932   \n",
       "GRADES_PK_G                                       0.730294           0.756137   \n",
       "GRADES_KG_G                                       0.896072           0.946845   \n",
       "GRADES_4_G                                        0.898693           0.944652   \n",
       "GRADES_8_G                                        0.912708           0.953039   \n",
       "GRADES_12_G                                       0.945662           0.972466   \n",
       "GRADES_1_8_G                                      0.900891           0.946163   \n",
       "GRADES_9_12_G                                     0.930590           0.963824   \n",
       "GRADES_ALL_G                                      0.910130           0.952564   \n",
       "AVG_MATH_4_SCORE                                  0.169020           0.075517   \n",
       "AVG_MATH_8_SCORE                                  0.115861           0.011494   \n",
       "AVG_READING_4_SCORE                               0.065281          -0.029369   \n",
       "AVG_READING_8_SCORE                               0.018656           0.010578   \n",
       "\n",
       "                              ...  GRADES_4_G  GRADES_8_G  GRADES_12_G  \\\n",
       "YEAR                          ...    0.029005    0.042773     0.108582   \n",
       "ENROLL                        ...    0.996449    0.997256     0.982295   \n",
       "TOTAL_REVENUE                 ...    0.896201    0.909801     0.939828   \n",
       "FEDERAL_REVENUE               ...    0.868741    0.882337     0.924164   \n",
       "STATE_REVENUE                 ...    0.901051    0.913023     0.946841   \n",
       "LOCAL_REVENUE                 ...    0.827283    0.841469     0.862819   \n",
       "TOTAL_EXPENDITURE             ...    0.895994    0.909858     0.938650   \n",
       "INSTRUCTION_EXPENDITURE       ...    0.863424    0.876886     0.904203   \n",
       "SUPPORT_SERVICES_EXPENDITURE  ...    0.898693    0.912708     0.945662   \n",
       "OTHER_EXPENDITURE             ...    0.944652    0.953039     0.972466   \n",
       "CAPITAL_OUTLAY_EXPENDITURE    ...    0.897765    0.910022     0.917379   \n",
       "GRADES_PK_G                   ...    0.788248    0.787044     0.756197   \n",
       "GRADES_KG_G                   ...    0.997379    0.995009     0.978303   \n",
       "GRADES_4_G                    ...    1.000000    0.997811     0.978405   \n",
       "GRADES_8_G                    ...    0.997811    1.000000     0.984923   \n",
       "GRADES_12_G                   ...    0.978405    0.984923     1.000000   \n",
       "GRADES_1_8_G                  ...    0.999737    0.998666     0.979488   \n",
       "GRADES_9_12_G                 ...    0.993427    0.997417     0.993857   \n",
       "GRADES_ALL_G                  ...    0.998790    0.999330     0.984593   \n",
       "AVG_MATH_4_SCORE              ...   -0.021983   -0.001670     0.055255   \n",
       "AVG_MATH_8_SCORE              ...   -0.044907   -0.032015     0.021465   \n",
       "AVG_READING_4_SCORE           ...   -0.087713   -0.072821    -0.031620   \n",
       "AVG_READING_8_SCORE           ...   -0.005395   -0.008824    -0.003986   \n",
       "\n",
       "                              GRADES_1_8_G  GRADES_9_12_G  GRADES_ALL_G  \\\n",
       "YEAR                              0.030393       0.070147      0.037877   \n",
       "ENROLL                            0.997033       0.995357      0.997681   \n",
       "TOTAL_REVENUE                     0.898374       0.927197      0.906995   \n",
       "FEDERAL_REVENUE                   0.870636       0.901819      0.880561   \n",
       "STATE_REVENUE                     0.902103       0.931911      0.909988   \n",
       "LOCAL_REVENUE                     0.830477       0.855557      0.838258   \n",
       "TOTAL_EXPENDITURE                 0.898292       0.926939      0.906932   \n",
       "INSTRUCTION_EXPENDITURE           0.865823       0.894244      0.872927   \n",
       "SUPPORT_SERVICES_EXPENDITURE      0.900891       0.930590      0.910130   \n",
       "OTHER_EXPENDITURE                 0.946163       0.963824      0.952564   \n",
       "CAPITAL_OUTLAY_EXPENDITURE        0.899671       0.918992      0.907456   \n",
       "GRADES_PK_G                       0.789187       0.775707      0.797493   \n",
       "GRADES_KG_G                       0.997511       0.991542      0.996745   \n",
       "GRADES_4_G                        0.999737       0.993427      0.998790   \n",
       "GRADES_8_G                        0.998666       0.997417      0.999330   \n",
       "GRADES_12_G                       0.979488       0.993857      0.984593   \n",
       "GRADES_1_8_G                      1.000000       0.994447      0.999344   \n",
       "GRADES_9_12_G                     0.994447       1.000000      0.996964   \n",
       "GRADES_ALL_G                      0.999344       0.996964      1.000000   \n",
       "AVG_MATH_4_SCORE                 -0.018618       0.022175     -0.002335   \n",
       "AVG_MATH_8_SCORE                 -0.043314      -0.010550     -0.028262   \n",
       "AVG_READING_4_SCORE              -0.084583      -0.055256     -0.066263   \n",
       "AVG_READING_8_SCORE              -0.005831      -0.006702      0.000117   \n",
       "\n",
       "                              AVG_MATH_4_SCORE  AVG_MATH_8_SCORE  \\\n",
       "YEAR                                  0.691727          0.490964   \n",
       "ENROLL                               -0.005537         -0.037240   \n",
       "TOTAL_REVENUE                         0.163007          0.111477   \n",
       "FEDERAL_REVENUE                       0.123957          0.045111   \n",
       "STATE_REVENUE                         0.126164          0.070389   \n",
       "LOCAL_REVENUE                         0.195823          0.158581   \n",
       "TOTAL_EXPENDITURE                     0.158988          0.108318   \n",
       "INSTRUCTION_EXPENDITURE               0.160238          0.112391   \n",
       "SUPPORT_SERVICES_EXPENDITURE          0.169020          0.115861   \n",
       "OTHER_EXPENDITURE                     0.075517          0.011494   \n",
       "CAPITAL_OUTLAY_EXPENDITURE            0.103311          0.047518   \n",
       "GRADES_PK_G                           0.119782          0.081304   \n",
       "GRADES_KG_G                          -0.021388         -0.047546   \n",
       "GRADES_4_G                           -0.021983         -0.044907   \n",
       "GRADES_8_G                           -0.001670         -0.032015   \n",
       "GRADES_12_G                           0.055255          0.021465   \n",
       "GRADES_1_8_G                         -0.018618         -0.043314   \n",
       "GRADES_9_12_G                         0.022175         -0.010550   \n",
       "GRADES_ALL_G                         -0.002335         -0.028262   \n",
       "AVG_MATH_4_SCORE                      1.000000          0.909345   \n",
       "AVG_MATH_8_SCORE                      0.909345          1.000000   \n",
       "AVG_READING_4_SCORE                   0.801784          0.857002   \n",
       "AVG_READING_8_SCORE                   0.138204          0.112264   \n",
       "\n",
       "                              AVG_READING_4_SCORE  AVG_READING_8_SCORE  \n",
       "YEAR                                     0.327086             0.201923  \n",
       "ENROLL                                  -0.067467            -0.006419  \n",
       "TOTAL_REVENUE                            0.066415             0.020289  \n",
       "FEDERAL_REVENUE                         -0.038412             0.010612  \n",
       "STATE_REVENUE                            0.009954             0.017162  \n",
       "LOCAL_REVENUE                            0.140875             0.023968  \n",
       "TOTAL_EXPENDITURE                        0.063147             0.022551  \n",
       "INSTRUCTION_EXPENDITURE                  0.083314             0.030369  \n",
       "SUPPORT_SERVICES_EXPENDITURE             0.065281             0.018656  \n",
       "OTHER_EXPENDITURE                       -0.029369             0.010578  \n",
       "CAPITAL_OUTLAY_EXPENDITURE              -0.021440             0.004543  \n",
       "GRADES_PK_G                              0.005851             0.024013  \n",
       "GRADES_KG_G                             -0.094092            -0.003172  \n",
       "GRADES_4_G                              -0.087713            -0.005395  \n",
       "GRADES_8_G                              -0.072821            -0.008824  \n",
       "GRADES_12_G                             -0.031620            -0.003986  \n",
       "GRADES_1_8_G                            -0.084583            -0.005831  \n",
       "GRADES_9_12_G                           -0.055256            -0.006702  \n",
       "GRADES_ALL_G                            -0.066263             0.000117  \n",
       "AVG_MATH_4_SCORE                         0.801784             0.138204  \n",
       "AVG_MATH_8_SCORE                         0.857002             0.112264  \n",
       "AVG_READING_4_SCORE                      1.000000             0.080567  \n",
       "AVG_READING_8_SCORE                      0.080567             1.000000  \n",
       "\n",
       "[23 rows x 23 columns]"
      ]
     },
     "execution_count": 6,
     "metadata": {},
     "output_type": "execute_result"
    }
   ],
   "source": [
    "df.corr()"
   ]
  },
  {
   "cell_type": "markdown",
   "metadata": {},
   "source": [
    "Colunas com boa correlação:\n",
    "- year\n",
    "- total revenue\n",
    "- local revenue\n",
    "- total expenditure\n",
    "- instruction expenditure\n",
    "- support service expenditure\n",
    "- avg_math_4_score\n",
    "- avg_reading_4_score\n",
    "- avg_reading_8_score"
   ]
  },
  {
   "cell_type": "code",
   "execution_count": 7,
   "metadata": {},
   "outputs": [
    {
     "data": {
      "text/plain": [
       "Index(['PRIMARY_KEY', 'STATE', 'YEAR', 'ENROLL', 'TOTAL_REVENUE',\n",
       "       'FEDERAL_REVENUE', 'STATE_REVENUE', 'LOCAL_REVENUE',\n",
       "       'TOTAL_EXPENDITURE', 'INSTRUCTION_EXPENDITURE',\n",
       "       'SUPPORT_SERVICES_EXPENDITURE', 'OTHER_EXPENDITURE',\n",
       "       'CAPITAL_OUTLAY_EXPENDITURE', 'GRADES_PK_G', 'GRADES_KG_G',\n",
       "       'GRADES_4_G', 'GRADES_8_G', 'GRADES_12_G', 'GRADES_1_8_G',\n",
       "       'GRADES_9_12_G', 'GRADES_ALL_G', 'AVG_MATH_4_SCORE', 'AVG_MATH_8_SCORE',\n",
       "       'AVG_READING_4_SCORE', 'AVG_READING_8_SCORE'],\n",
       "      dtype='object')"
      ]
     },
     "execution_count": 7,
     "metadata": {},
     "output_type": "execute_result"
    }
   ],
   "source": [
    "df.columns"
   ]
  },
  {
   "cell_type": "code",
   "execution_count": 8,
   "metadata": {},
   "outputs": [],
   "source": [
    "df_dropped = df.loc[:,[\"STATE\",\"YEAR\", \"TOTAL_REVENUE\", \"LOCAL_REVENUE\", \"TOTAL_EXPENDITURE\", \"INSTRUCTION_EXPENDITURE\", \"SUPPORT_SERVICES_EXPENDITURE\", \"AVG_MATH_4_SCORE\", \"AVG_MATH_8_SCORE\", \"AVG_READING_4_SCORE\", \"AVG_READING_8_SCORE\"]]"
   ]
  },
  {
   "cell_type": "code",
   "execution_count": 9,
   "metadata": {},
   "outputs": [
    {
     "data": {
      "text/html": [
       "<div>\n",
       "<style scoped>\n",
       "    .dataframe tbody tr th:only-of-type {\n",
       "        vertical-align: middle;\n",
       "    }\n",
       "\n",
       "    .dataframe tbody tr th {\n",
       "        vertical-align: top;\n",
       "    }\n",
       "\n",
       "    .dataframe thead th {\n",
       "        text-align: right;\n",
       "    }\n",
       "</style>\n",
       "<table border=\"1\" class=\"dataframe\">\n",
       "  <thead>\n",
       "    <tr style=\"text-align: right;\">\n",
       "      <th></th>\n",
       "      <th>STATE</th>\n",
       "      <th>YEAR</th>\n",
       "      <th>TOTAL_REVENUE</th>\n",
       "      <th>LOCAL_REVENUE</th>\n",
       "      <th>TOTAL_EXPENDITURE</th>\n",
       "      <th>INSTRUCTION_EXPENDITURE</th>\n",
       "      <th>SUPPORT_SERVICES_EXPENDITURE</th>\n",
       "      <th>AVG_MATH_4_SCORE</th>\n",
       "      <th>AVG_MATH_8_SCORE</th>\n",
       "      <th>AVG_READING_4_SCORE</th>\n",
       "      <th>AVG_READING_8_SCORE</th>\n",
       "    </tr>\n",
       "  </thead>\n",
       "  <tbody>\n",
       "    <tr>\n",
       "      <th>0</th>\n",
       "      <td>ALABAMA</td>\n",
       "      <td>1992</td>\n",
       "      <td>2678885.0</td>\n",
       "      <td>715680.0</td>\n",
       "      <td>2653798.0</td>\n",
       "      <td>1481703.0</td>\n",
       "      <td>735036.0</td>\n",
       "      <td>208.327876</td>\n",
       "      <td>252.187522</td>\n",
       "      <td>207.963517</td>\n",
       "      <td>NaN</td>\n",
       "    </tr>\n",
       "    <tr>\n",
       "      <th>1</th>\n",
       "      <td>ALASKA</td>\n",
       "      <td>1992</td>\n",
       "      <td>1049591.0</td>\n",
       "      <td>222100.0</td>\n",
       "      <td>972488.0</td>\n",
       "      <td>498362.0</td>\n",
       "      <td>350902.0</td>\n",
       "      <td>NaN</td>\n",
       "      <td>NaN</td>\n",
       "      <td>NaN</td>\n",
       "      <td>258.859712</td>\n",
       "    </tr>\n",
       "    <tr>\n",
       "      <th>2</th>\n",
       "      <td>ARIZONA</td>\n",
       "      <td>1992</td>\n",
       "      <td>3258079.0</td>\n",
       "      <td>1590376.0</td>\n",
       "      <td>3401580.0</td>\n",
       "      <td>1435908.0</td>\n",
       "      <td>1007732.0</td>\n",
       "      <td>215.253932</td>\n",
       "      <td>265.366278</td>\n",
       "      <td>206.212716</td>\n",
       "      <td>262.169895</td>\n",
       "    </tr>\n",
       "    <tr>\n",
       "      <th>3</th>\n",
       "      <td>ARKANSAS</td>\n",
       "      <td>1992</td>\n",
       "      <td>1711959.0</td>\n",
       "      <td>574603.0</td>\n",
       "      <td>1743022.0</td>\n",
       "      <td>964323.0</td>\n",
       "      <td>483488.0</td>\n",
       "      <td>210.206028</td>\n",
       "      <td>256.312090</td>\n",
       "      <td>208.634458</td>\n",
       "      <td>264.619665</td>\n",
       "    </tr>\n",
       "    <tr>\n",
       "      <th>4</th>\n",
       "      <td>CALIFORNIA</td>\n",
       "      <td>1992</td>\n",
       "      <td>26260025.0</td>\n",
       "      <td>7641041.0</td>\n",
       "      <td>27138832.0</td>\n",
       "      <td>14358922.0</td>\n",
       "      <td>8520926.0</td>\n",
       "      <td>208.398961</td>\n",
       "      <td>260.892247</td>\n",
       "      <td>196.764414</td>\n",
       "      <td>NaN</td>\n",
       "    </tr>\n",
       "  </tbody>\n",
       "</table>\n",
       "</div>"
      ],
      "text/plain": [
       "        STATE  YEAR  TOTAL_REVENUE  LOCAL_REVENUE  TOTAL_EXPENDITURE  \\\n",
       "0     ALABAMA  1992      2678885.0       715680.0          2653798.0   \n",
       "1      ALASKA  1992      1049591.0       222100.0           972488.0   \n",
       "2     ARIZONA  1992      3258079.0      1590376.0          3401580.0   \n",
       "3    ARKANSAS  1992      1711959.0       574603.0          1743022.0   \n",
       "4  CALIFORNIA  1992     26260025.0      7641041.0         27138832.0   \n",
       "\n",
       "   INSTRUCTION_EXPENDITURE  SUPPORT_SERVICES_EXPENDITURE  AVG_MATH_4_SCORE  \\\n",
       "0                1481703.0                      735036.0        208.327876   \n",
       "1                 498362.0                      350902.0               NaN   \n",
       "2                1435908.0                     1007732.0        215.253932   \n",
       "3                 964323.0                      483488.0        210.206028   \n",
       "4               14358922.0                     8520926.0        208.398961   \n",
       "\n",
       "   AVG_MATH_8_SCORE  AVG_READING_4_SCORE  AVG_READING_8_SCORE  \n",
       "0        252.187522           207.963517                  NaN  \n",
       "1               NaN                  NaN           258.859712  \n",
       "2        265.366278           206.212716           262.169895  \n",
       "3        256.312090           208.634458           264.619665  \n",
       "4        260.892247           196.764414                  NaN  "
      ]
     },
     "execution_count": 9,
     "metadata": {},
     "output_type": "execute_result"
    }
   ],
   "source": [
    "df_dropped.head()"
   ]
  },
  {
   "cell_type": "code",
   "execution_count": 10,
   "metadata": {},
   "outputs": [
    {
     "name": "stdout",
     "output_type": "stream",
     "text": [
      "<class 'pandas.core.frame.DataFrame'>\n",
      "RangeIndex: 1492 entries, 0 to 1491\n",
      "Data columns (total 11 columns):\n",
      " #   Column                        Non-Null Count  Dtype  \n",
      "---  ------                        --------------  -----  \n",
      " 0   STATE                         1492 non-null   object \n",
      " 1   YEAR                          1492 non-null   int64  \n",
      " 2   TOTAL_REVENUE                 1280 non-null   float64\n",
      " 3   LOCAL_REVENUE                 1280 non-null   float64\n",
      " 4   TOTAL_EXPENDITURE             1280 non-null   float64\n",
      " 5   INSTRUCTION_EXPENDITURE       1280 non-null   float64\n",
      " 6   SUPPORT_SERVICES_EXPENDITURE  1280 non-null   float64\n",
      " 7   AVG_MATH_4_SCORE              536 non-null    float64\n",
      " 8   AVG_MATH_8_SCORE              532 non-null    float64\n",
      " 9   AVG_READING_4_SCORE           533 non-null    float64\n",
      " 10  AVG_READING_8_SCORE           498 non-null    float64\n",
      "dtypes: float64(9), int64(1), object(1)\n",
      "memory usage: 128.3+ KB\n"
     ]
    }
   ],
   "source": [
    "df_dropped.info()"
   ]
  },
  {
   "cell_type": "code",
   "execution_count": 11,
   "metadata": {},
   "outputs": [],
   "source": [
    "df_dropped_NA = df_dropped[df_dropped[\"AVG_MATH_8_SCORE\"].notna()]"
   ]
  },
  {
   "cell_type": "code",
   "execution_count": 12,
   "metadata": {},
   "outputs": [
    {
     "name": "stdout",
     "output_type": "stream",
     "text": [
      "<class 'pandas.core.frame.DataFrame'>\n",
      "Int64Index: 532 entries, 0 to 1491\n",
      "Data columns (total 11 columns):\n",
      " #   Column                        Non-Null Count  Dtype  \n",
      "---  ------                        --------------  -----  \n",
      " 0   STATE                         532 non-null    object \n",
      " 1   YEAR                          532 non-null    int64  \n",
      " 2   TOTAL_REVENUE                 481 non-null    float64\n",
      " 3   LOCAL_REVENUE                 481 non-null    float64\n",
      " 4   TOTAL_EXPENDITURE             481 non-null    float64\n",
      " 5   INSTRUCTION_EXPENDITURE       481 non-null    float64\n",
      " 6   SUPPORT_SERVICES_EXPENDITURE  481 non-null    float64\n",
      " 7   AVG_MATH_4_SCORE              532 non-null    float64\n",
      " 8   AVG_MATH_8_SCORE              532 non-null    float64\n",
      " 9   AVG_READING_4_SCORE           522 non-null    float64\n",
      " 10  AVG_READING_8_SCORE           478 non-null    float64\n",
      "dtypes: float64(9), int64(1), object(1)\n",
      "memory usage: 49.9+ KB\n"
     ]
    }
   ],
   "source": [
    "df_dropped_NA.info()"
   ]
  },
  {
   "cell_type": "code",
   "execution_count": 13,
   "metadata": {},
   "outputs": [],
   "source": [
    "BINS = int(np.sqrt(len(df_dropped_NA.index)))"
   ]
  },
  {
   "cell_type": "code",
   "execution_count": 14,
   "metadata": {},
   "outputs": [
    {
     "data": {
      "image/png": "[encoded data removed]",
      "text/plain": [
       "<Figure size 1500x1000 with 12 Axes>"
      ]
     },
     "metadata": {},
     "output_type": "display_data"
    }
   ],
   "source": [
    "df_dropped_NA.hist(bins=BINS, figsize=(15,10));"
   ]
  },
  {
   "cell_type": "code",
   "execution_count": 15,
   "metadata": {},
   "outputs": [
    {
     "data": {
      "text/plain": [
       "<AxesSubplot: ylabel='Frequency'>"
      ]
     },
     "execution_count": 15,
     "metadata": {},
     "output_type": "execute_result"
    },
    {
     "data": {
      "image/png": "[encoded data removed]",
      "text/plain": [
       "<Figure size 640x480 with 1 Axes>"
      ]
     },
     "metadata": {},
     "output_type": "display_data"
    }
   ],
   "source": [
    "df_dropped_NA[\"TOTAL_REVENUE\"].apply(np.log10).plot.hist(bins = BINS)"
   ]
  },
  {
   "cell_type": "code",
   "execution_count": 16,
   "metadata": {},
   "outputs": [
    {
     "data": {
      "text/plain": [
       "<AxesSubplot: ylabel='Frequency'>"
      ]
     },
     "execution_count": 16,
     "metadata": {},
     "output_type": "execute_result"
    },
    {
     "data": {
      "image/png": "[encoded data removed]",
      "text/plain": [
       "<Figure size 640x480 with 1 Axes>"
      ]
     },
     "metadata": {},
     "output_type": "display_data"
    }
   ],
   "source": [
    "df_dropped_NA[\"LOCAL_REVENUE\"].apply(np.log10).plot.hist(bins = BINS)"
   ]
  },
  {
   "cell_type": "code",
   "execution_count": 17,
   "metadata": {},
   "outputs": [
    {
     "data": {
      "text/plain": [
       "10"
      ]
     },
     "execution_count": 17,
     "metadata": {},
     "output_type": "execute_result"
    }
   ],
   "source": [
    "df_dropped_NA[df_dropped_NA['LOCAL_REVENUE'] < 10**5].loc[:, 'LOCAL_REVENUE'].count()"
   ]
  },
  {
   "cell_type": "code",
   "execution_count": 18,
   "metadata": {},
   "outputs": [
    {
     "data": {
      "text/plain": [
       "<AxesSubplot: ylabel='Frequency'>"
      ]
     },
     "execution_count": 18,
     "metadata": {},
     "output_type": "execute_result"
    },
    {
     "data": {
      "image/png": "[encoded data removed]",
      "text/plain": [
       "<Figure size 640x480 with 1 Axes>"
      ]
     },
     "metadata": {},
     "output_type": "display_data"
    }
   ],
   "source": [
    "(df_dropped_NA[df_dropped_NA['LOCAL_REVENUE'] >= 10**5].loc[:, 'LOCAL_REVENUE']).apply(np.log10).plot.hist(bins = BINS)"
   ]
  },
  {
   "cell_type": "code",
   "execution_count": 19,
   "metadata": {},
   "outputs": [
    {
     "data": {
      "text/plain": [
       "<AxesSubplot: ylabel='Frequency'>"
      ]
     },
     "execution_count": 19,
     "metadata": {},
     "output_type": "execute_result"
    },
    {
     "data": {
      "image/png": "[encoded data removed]",
      "text/plain": [
       "<Figure size 640x480 with 1 Axes>"
      ]
     },
     "metadata": {},
     "output_type": "display_data"
    }
   ],
   "source": [
    "df_dropped_NA[\"TOTAL_EXPENDITURE\"].apply(np.log10).plot.hist(bins = BINS)"
   ]
  },
  {
   "cell_type": "code",
   "execution_count": 20,
   "metadata": {},
   "outputs": [
    {
     "data": {
      "text/plain": [
       "<AxesSubplot: ylabel='Frequency'>"
      ]
     },
     "execution_count": 20,
     "metadata": {},
     "output_type": "execute_result"
    },
    {
     "data": {
      "image/png": "[encoded data removed]",
      "text/plain": [
       "<Figure size 640x480 with 1 Axes>"
      ]
     },
     "metadata": {},
     "output_type": "display_data"
    }
   ],
   "source": [
    "df_dropped_NA[\"INSTRUCTION_EXPENDITURE\"].apply(np.log10).plot.hist(bins = BINS)"
   ]
  },
  {
   "cell_type": "code",
   "execution_count": 21,
   "metadata": {},
   "outputs": [
    {
     "data": {
      "text/plain": [
       "<AxesSubplot: ylabel='Frequency'>"
      ]
     },
     "execution_count": 21,
     "metadata": {},
     "output_type": "execute_result"
    },
    {
     "data": {
      "image/png": "[encoded data removed]",
      "text/plain": [
       "<Figure size 640x480 with 1 Axes>"
      ]
     },
     "metadata": {},
     "output_type": "display_data"
    }
   ],
   "source": [
    "df_dropped_NA[\"SUPPORT_SERVICES_EXPENDITURE\"].apply(np.log10).plot.hist(bins = BINS)"
   ]
  },
  {
   "cell_type": "code",
   "execution_count": 22,
   "metadata": {},
   "outputs": [
    {
     "data": {
      "text/plain": [
       "3"
      ]
     },
     "execution_count": 22,
     "metadata": {},
     "output_type": "execute_result"
    }
   ],
   "source": [
    "df_dropped_NA[df_dropped_NA['AVG_MATH_4_SCORE'] < 200].loc[:, 'AVG_MATH_4_SCORE'].count()"
   ]
  },
  {
   "cell_type": "code",
   "execution_count": 23,
   "metadata": {},
   "outputs": [
    {
     "data": {
      "text/plain": [
       "3"
      ]
     },
     "execution_count": 23,
     "metadata": {},
     "output_type": "execute_result"
    }
   ],
   "source": [
    "df_dropped_NA[df_dropped_NA['AVG_MATH_8_SCORE'] < 240].loc[:, 'AVG_MATH_8_SCORE'].count()"
   ]
  },
  {
   "cell_type": "code",
   "execution_count": 24,
   "metadata": {},
   "outputs": [
    {
     "data": {
      "text/plain": [
       "5"
      ]
     },
     "execution_count": 24,
     "metadata": {},
     "output_type": "execute_result"
    }
   ],
   "source": [
    "df_dropped_NA[df_dropped_NA['AVG_READING_4_SCORE'] < 195].loc[:, 'AVG_READING_4_SCORE'].count()"
   ]
  },
  {
   "cell_type": "code",
   "execution_count": 25,
   "metadata": {},
   "outputs": [
    {
     "data": {
      "text/plain": [
       "7"
      ]
     },
     "execution_count": 25,
     "metadata": {},
     "output_type": "execute_result"
    }
   ],
   "source": [
    "df_dropped_NA[df_dropped_NA['AVG_READING_8_SCORE'] < 245].loc[:, 'AVG_READING_8_SCORE'].count()"
   ]
  },
  {
   "cell_type": "markdown",
   "metadata": {},
   "source": [
    "**Iniciando os cortes e normalizações**"
   ]
  },
  {
   "cell_type": "code",
   "execution_count": 26,
   "metadata": {},
   "outputs": [
    {
     "data": {
      "text/plain": [
       "Index(['STATE', 'YEAR', 'TOTAL_REVENUE', 'LOCAL_REVENUE', 'TOTAL_EXPENDITURE',\n",
       "       'INSTRUCTION_EXPENDITURE', 'SUPPORT_SERVICES_EXPENDITURE',\n",
       "       'AVG_MATH_4_SCORE', 'AVG_MATH_8_SCORE', 'AVG_READING_4_SCORE',\n",
       "       'AVG_READING_8_SCORE'],\n",
       "      dtype='object')"
      ]
     },
     "execution_count": 26,
     "metadata": {},
     "output_type": "execute_result"
    }
   ],
   "source": [
    "df_dropped_NA.columns"
   ]
  },
  {
   "cell_type": "code",
   "execution_count": 27,
   "metadata": {},
   "outputs": [
    {
     "name": "stdout",
     "output_type": "stream",
     "text": [
      "<class 'pandas.core.frame.DataFrame'>\n",
      "Int64Index: 403 entries, 2 to 1228\n",
      "Data columns (total 11 columns):\n",
      " #   Column                        Non-Null Count  Dtype  \n",
      "---  ------                        --------------  -----  \n",
      " 0   STATE                         403 non-null    object \n",
      " 1   YEAR                          403 non-null    int64  \n",
      " 2   TOTAL_REVENUE                 403 non-null    float64\n",
      " 3   LOCAL_REVENUE                 403 non-null    float64\n",
      " 4   TOTAL_EXPENDITURE             403 non-null    float64\n",
      " 5   INSTRUCTION_EXPENDITURE       403 non-null    float64\n",
      " 6   SUPPORT_SERVICES_EXPENDITURE  403 non-null    float64\n",
      " 7   AVG_MATH_4_SCORE              403 non-null    float64\n",
      " 8   AVG_MATH_8_SCORE              403 non-null    float64\n",
      " 9   AVG_READING_4_SCORE           403 non-null    float64\n",
      " 10  AVG_READING_8_SCORE           403 non-null    float64\n",
      "dtypes: float64(9), int64(1), object(1)\n",
      "memory usage: 37.8+ KB\n"
     ]
    }
   ],
   "source": [
    "#df_filtered é tipo o view. Etão mexe no df original\n",
    "idx = (df_dropped_NA['LOCAL_REVENUE'] >= 10**5)\\\n",
    "    & (df_dropped_NA['AVG_MATH_4_SCORE'] >= 200) \\\n",
    "    & (df_dropped_NA['AVG_MATH_8_SCORE'] >= 240) \\\n",
    "    & (df_dropped_NA['AVG_READING_4_SCORE'] >= 195) \\\n",
    "    & (df_dropped_NA['AVG_READING_8_SCORE'] >= 245) \n",
    "df_filtered = df_dropped_NA[idx].copy()\n",
    "df_filtered.info()"
   ]
  },
  {
   "cell_type": "code",
   "execution_count": 28,
   "metadata": {},
   "outputs": [],
   "source": [
    "df_filtered['TOTAL_REVENUE'] = df_filtered['TOTAL_REVENUE'].apply(np.log10)\n",
    "df_filtered['LOCAL_REVENUE'] = df_filtered['LOCAL_REVENUE'].apply(np.log10)\n",
    "df_filtered['TOTAL_EXPENDITURE'] = df_filtered['TOTAL_EXPENDITURE'].apply(np.log10)\n",
    "df_filtered['INSTRUCTION_EXPENDITURE'] = df_filtered['INSTRUCTION_EXPENDITURE'].apply(np.log10)\n",
    "df_filtered['SUPPORT_SERVICES_EXPENDITURE'] = df_filtered['SUPPORT_SERVICES_EXPENDITURE'].apply(np.log10)"
   ]
  },
  {
   "cell_type": "code",
   "execution_count": 29,
   "metadata": {},
   "outputs": [],
   "source": [
    "BINS = int(np.sqrt(len(df_filtered.index)))"
   ]
  },
  {
   "cell_type": "code",
   "execution_count": 30,
   "metadata": {},
   "outputs": [
    {
     "data": {
      "image/png": "[encoded data removed]",
      "text/plain": [
       "<Figure size 1500x1000 with 12 Axes>"
      ]
     },
     "metadata": {},
     "output_type": "display_data"
    }
   ],
   "source": [
    "df_filtered.hist(bins=BINS, figsize=(15,10));"
   ]
  },
  {
   "cell_type": "markdown",
   "metadata": {},
   "source": [
    "## Separando os valores em treino e teste:\n",
    "\n",
    "Vamos separar os valores em treino e teste utilizando a separação estratificada"
   ]
  },
  {
   "cell_type": "code",
   "execution_count": 31,
   "metadata": {},
   "outputs": [],
   "source": [
    "y = df_filtered.loc[:,\"AVG_MATH_8_SCORE\"]\n",
    "X = df_filtered.drop([\"AVG_MATH_8_SCORE\"], axis=1)"
   ]
  },
  {
   "cell_type": "code",
   "execution_count": 55,
   "metadata": {},
   "outputs": [],
   "source": [
    "X_train, X_test, y_train, y_test = train_test_split(\n",
    "    X,\n",
    "    y,                  \n",
    "    test_size=0.2,\n",
    "    random_state=RAND_SEED,\n",
    "    stratify=X[\"STATE\"]\n",
    ")"
   ]
  },
  {
   "cell_type": "code",
   "execution_count": 56,
   "metadata": {},
   "outputs": [],
   "source": [
    "X_train_num = X_train.drop([\"STATE\"], axis=1)\n",
    "X_train_cat = X_train.loc[:,\"STATE\"]"
   ]
  },
  {
   "cell_type": "code",
   "execution_count": 57,
   "metadata": {},
   "outputs": [],
   "source": [
    "meu_imputer = SimpleImputer(strategy='median')\n",
    "meu_scaler = StandardScaler()\n",
    "\n",
    "num_pipeline = Pipeline([\n",
    "    ('imputer', meu_imputer),\n",
    "    ('std_scaler', meu_scaler),\n",
    "])\n",
    "\n",
    "meu_one_hot_encoder = OneHotEncoder(sparse=False)\n",
    "\n",
    "cat_pipeline = Pipeline([\n",
    "    ('cat_encoder', meu_one_hot_encoder),\n",
    "])\n",
    "\n",
    "num_attribs = list(X_train_num)\n",
    "cat_attribs = ['STATE']\n",
    "\n",
    "full_pipeline = ColumnTransformer([\n",
    "    ('num', num_pipeline, num_attribs),\n",
    "    ('cat', cat_pipeline, cat_attribs),\n",
    "])"
   ]
  },
  {
   "cell_type": "code",
   "execution_count": 58,
   "metadata": {},
   "outputs": [
    {
     "data": {
      "text/plain": [
       "array([[-1.31562961,  0.30816959,  0.35981008,  0.3030157 ,  0.24946339,\n",
       "         0.24397074, -0.2533023 ,  0.33174129,  0.50661948,  0.        ,\n",
       "         0.        ,  0.        ,  0.        ,  0.        ,  0.        ,\n",
       "         0.        ,  0.        ,  0.        ,  0.        ,  0.        ,\n",
       "         0.        ,  0.        ,  1.        ,  0.        ,  0.        ,\n",
       "         0.        ,  0.        ,  0.        ,  0.        ,  0.        ,\n",
       "         0.        ,  0.        ,  0.        ,  0.        ,  0.        ,\n",
       "         0.        ,  0.        ,  0.        ,  0.        ,  0.        ,\n",
       "         0.        ,  0.        ,  0.        ,  0.        ,  0.        ,\n",
       "         0.        ,  0.        ,  0.        ,  0.        ,  0.        ,\n",
       "         0.        ,  0.        ,  0.        ,  0.        ,  0.        ,\n",
       "         0.        ,  0.        ,  0.        ,  0.        ],\n",
       "       [ 1.00711419,  1.44408463,  1.59000319,  1.43588476,  1.49570017,\n",
       "         1.53090335,  1.19589952,  1.32003436,  0.86846773,  0.        ,\n",
       "         0.        ,  0.        ,  0.        ,  0.        ,  0.        ,\n",
       "         0.        ,  0.        ,  0.        ,  0.        ,  0.        ,\n",
       "         0.        ,  0.        ,  0.        ,  0.        ,  0.        ,\n",
       "         0.        ,  0.        ,  0.        ,  0.        ,  0.        ,\n",
       "         0.        ,  0.        ,  0.        ,  0.        ,  0.        ,\n",
       "         0.        ,  0.        ,  0.        ,  1.        ,  0.        ,\n",
       "         0.        ,  0.        ,  0.        ,  0.        ,  0.        ,\n",
       "         0.        ,  0.        ,  0.        ,  0.        ,  0.        ,\n",
       "         0.        ,  0.        ,  0.        ,  0.        ,  0.        ,\n",
       "         0.        ,  0.        ,  0.        ,  0.        ],\n",
       "       [ 1.00711419,  0.56258052,  0.54618533,  0.53167059,  0.54054648,\n",
       "         0.62878619,  0.94392372,  0.1782471 ,  0.59878864,  0.        ,\n",
       "         0.        ,  0.        ,  0.        ,  0.        ,  0.        ,\n",
       "         0.        ,  0.        ,  0.        ,  0.        ,  0.        ,\n",
       "         0.        ,  0.        ,  0.        ,  0.        ,  0.        ,\n",
       "         0.        ,  0.        ,  0.        ,  0.        ,  0.        ,\n",
       "         0.        ,  0.        ,  0.        ,  0.        ,  0.        ,\n",
       "         0.        ,  0.        ,  0.        ,  0.        ,  0.        ,\n",
       "         0.        ,  0.        ,  0.        ,  0.        ,  0.        ,\n",
       "         0.        ,  0.        ,  0.        ,  0.        ,  0.        ,\n",
       "         0.        ,  0.        ,  0.        ,  0.        ,  0.        ,\n",
       "         0.        ,  0.        ,  1.        ,  0.        ],\n",
       "       [-0.42226661,  0.65120524,  0.823498  ,  0.65741142,  0.6844771 ,\n",
       "         0.66795873,  0.45400049,  0.90011247, -0.49535053,  0.        ,\n",
       "         0.        ,  0.        ,  0.        ,  0.        ,  0.        ,\n",
       "         0.        ,  0.        ,  0.        ,  0.        ,  0.        ,\n",
       "         0.        ,  0.        ,  0.        ,  0.        ,  0.        ,\n",
       "         0.        ,  0.        ,  0.        ,  0.        ,  0.        ,\n",
       "         0.        ,  0.        ,  0.        ,  0.        ,  0.        ,\n",
       "         0.        ,  0.        ,  0.        ,  0.        ,  0.        ,\n",
       "         0.        ,  0.        ,  0.        ,  0.        ,  0.        ,\n",
       "         0.        ,  0.        ,  0.        ,  0.        ,  0.        ,\n",
       "         0.        ,  0.        ,  0.        ,  0.        ,  1.        ,\n",
       "         0.        ,  0.        ,  0.        ,  0.        ],\n",
       "       [ 0.64976899,  1.0235936 ,  1.03087909,  0.96770085,  1.05058168,\n",
       "         0.95660123,  0.20593496,  0.1771802 ,  0.30955538,  0.        ,\n",
       "         0.        ,  0.        ,  0.        ,  0.        ,  0.        ,\n",
       "         0.        ,  0.        ,  0.        ,  0.        ,  1.        ,\n",
       "         0.        ,  0.        ,  0.        ,  0.        ,  0.        ,\n",
       "         0.        ,  0.        ,  0.        ,  0.        ,  0.        ,\n",
       "         0.        ,  0.        ,  0.        ,  0.        ,  0.        ,\n",
       "         0.        ,  0.        ,  0.        ,  0.        ,  0.        ,\n",
       "         0.        ,  0.        ,  0.        ,  0.        ,  0.        ,\n",
       "         0.        ,  0.        ,  0.        ,  0.        ,  0.        ,\n",
       "         0.        ,  0.        ,  0.        ,  0.        ,  0.        ,\n",
       "         0.        ,  0.        ,  0.        ,  0.        ]])"
      ]
     },
     "execution_count": 58,
     "metadata": {},
     "output_type": "execute_result"
    }
   ],
   "source": [
    "X_train_prepared = full_pipeline.fit_transform(X_train)\n",
    "X_train_prepared[:5]"
   ]
  },
  {
   "cell_type": "markdown",
   "metadata": {},
   "source": [
    "## Aplicando os modelos:\n",
    "\n",
    "Depois de possuirmos nosso treino tranformado, ele está preparado para poder ser aplicado nos modelos."
   ]
  },
  {
   "cell_type": "code",
   "execution_count": 59,
   "metadata": {},
   "outputs": [],
   "source": [
    "from sklearn.linear_model import LinearRegression\n",
    "from sklearn.tree import DecisionTreeRegressor\n",
    "from sklearn.ensemble import RandomForestRegressor"
   ]
  },
  {
   "cell_type": "code",
   "execution_count": 60,
   "metadata": {},
   "outputs": [
    {
     "data": {
      "text/html": [
       "<style>#sk-container-id-4 {color: black;background-color: white;}#sk-container-id-4 pre{padding: 0;}#sk-container-id-4 div.sk-toggleable {background-color: white;}#sk-container-id-4 label.sk-toggleable__label {cursor: pointer;display: block;width: 100%;margin-bottom: 0;padding: 0.3em;box-sizing: border-box;text-align: center;}#sk-container-id-4 label.sk-toggleable__label-arrow:before {content: \"▸\";float: left;margin-right: 0.25em;color: #696969;}#sk-container-id-4 label.sk-toggleable__label-arrow:hover:before {color: black;}#sk-container-id-4 div.sk-estimator:hover label.sk-toggleable__label-arrow:before {color: black;}#sk-container-id-4 div.sk-toggleable__content {max-height: 0;max-width: 0;overflow: hidden;text-align: left;background-color: #f0f8ff;}#sk-container-id-4 div.sk-toggleable__content pre {margin: 0.2em;color: black;border-radius: 0.25em;background-color: #f0f8ff;}#sk-container-id-4 input.sk-toggleable__control:checked~div.sk-toggleable__content {max-height: 200px;max-width: 100%;overflow: auto;}#sk-container-id-4 input.sk-toggleable__control:checked~label.sk-toggleable__label-arrow:before {content: \"▾\";}#sk-container-id-4 div.sk-estimator input.sk-toggleable__control:checked~label.sk-toggleable__label {background-color: #d4ebff;}#sk-container-id-4 div.sk-label input.sk-toggleable__control:checked~label.sk-toggleable__label {background-color: #d4ebff;}#sk-container-id-4 input.sk-hidden--visually {border: 0;clip: rect(1px 1px 1px 1px);clip: rect(1px, 1px, 1px, 1px);height: 1px;margin: -1px;overflow: hidden;padding: 0;position: absolute;width: 1px;}#sk-container-id-4 div.sk-estimator {font-family: monospace;background-color: #f0f8ff;border: 1px dotted black;border-radius: 0.25em;box-sizing: border-box;margin-bottom: 0.5em;}#sk-container-id-4 div.sk-estimator:hover {background-color: #d4ebff;}#sk-container-id-4 div.sk-parallel-item::after {content: \"\";width: 100%;border-bottom: 1px solid gray;flex-grow: 1;}#sk-container-id-4 div.sk-label:hover label.sk-toggleable__label {background-color: #d4ebff;}#sk-container-id-4 div.sk-serial::before {content: \"\";position: absolute;border-left: 1px solid gray;box-sizing: border-box;top: 0;bottom: 0;left: 50%;z-index: 0;}#sk-container-id-4 div.sk-serial {display: flex;flex-direction: column;align-items: center;background-color: white;padding-right: 0.2em;padding-left: 0.2em;position: relative;}#sk-container-id-4 div.sk-item {position: relative;z-index: 1;}#sk-container-id-4 div.sk-parallel {display: flex;align-items: stretch;justify-content: center;background-color: white;position: relative;}#sk-container-id-4 div.sk-item::before, #sk-container-id-4 div.sk-parallel-item::before {content: \"\";position: absolute;border-left: 1px solid gray;box-sizing: border-box;top: 0;bottom: 0;left: 50%;z-index: -1;}#sk-container-id-4 div.sk-parallel-item {display: flex;flex-direction: column;z-index: 1;position: relative;background-color: white;}#sk-container-id-4 div.sk-parallel-item:first-child::after {align-self: flex-end;width: 50%;}#sk-container-id-4 div.sk-parallel-item:last-child::after {align-self: flex-start;width: 50%;}#sk-container-id-4 div.sk-parallel-item:only-child::after {width: 0;}#sk-container-id-4 div.sk-dashed-wrapped {border: 1px dashed gray;margin: 0 0.4em 0.5em 0.4em;box-sizing: border-box;padding-bottom: 0.4em;background-color: white;}#sk-container-id-4 div.sk-label label {font-family: monospace;font-weight: bold;display: inline-block;line-height: 1.2em;}#sk-container-id-4 div.sk-label-container {text-align: center;}#sk-container-id-4 div.sk-container {/* jupyter's `normalize.less` sets `[hidden] { display: none; }` but bootstrap.min.css set `[hidden] { display: none !important; }` so we also need the `!important` here to be able to override the default hidden behavior on the sphinx rendered scikit-learn.org. See: https://github.com/scikit-learn/scikit-learn/issues/21755 */display: inline-block !important;position: relative;}#sk-container-id-4 div.sk-text-repr-fallback {display: none;}</style><div id=\"sk-container-id-4\" class=\"sk-top-container\"><div class=\"sk-text-repr-fallback\"><pre>LinearRegression()</pre><b>In a Jupyter environment, please rerun this cell to show the HTML representation or trust the notebook. <br />On GitHub, the HTML representation is unable to render, please try loading this page with nbviewer.org.</b></div><div class=\"sk-container\" hidden><div class=\"sk-item\"><div class=\"sk-estimator sk-toggleable\"><input class=\"sk-toggleable__control sk-hidden--visually\" id=\"sk-estimator-id-4\" type=\"checkbox\" checked><label for=\"sk-estimator-id-4\" class=\"sk-toggleable__label sk-toggleable__label-arrow\">LinearRegression</label><div class=\"sk-toggleable__content\"><pre>LinearRegression()</pre></div></div></div></div></div>"
      ],
      "text/plain": [
       "LinearRegression()"
      ]
     },
     "execution_count": 60,
     "metadata": {},
     "output_type": "execute_result"
    }
   ],
   "source": [
    "#Aplicando modelo Linear\n",
    "lin_reg = LinearRegression()\n",
    "lin_reg.fit(X_train_prepared, y_train)"
   ]
  },
  {
   "cell_type": "code",
   "execution_count": 61,
   "metadata": {},
   "outputs": [
    {
     "data": {
      "text/html": [
       "<style>#sk-container-id-5 {color: black;background-color: white;}#sk-container-id-5 pre{padding: 0;}#sk-container-id-5 div.sk-toggleable {background-color: white;}#sk-container-id-5 label.sk-toggleable__label {cursor: pointer;display: block;width: 100%;margin-bottom: 0;padding: 0.3em;box-sizing: border-box;text-align: center;}#sk-container-id-5 label.sk-toggleable__label-arrow:before {content: \"▸\";float: left;margin-right: 0.25em;color: #696969;}#sk-container-id-5 label.sk-toggleable__label-arrow:hover:before {color: black;}#sk-container-id-5 div.sk-estimator:hover label.sk-toggleable__label-arrow:before {color: black;}#sk-container-id-5 div.sk-toggleable__content {max-height: 0;max-width: 0;overflow: hidden;text-align: left;background-color: #f0f8ff;}#sk-container-id-5 div.sk-toggleable__content pre {margin: 0.2em;color: black;border-radius: 0.25em;background-color: #f0f8ff;}#sk-container-id-5 input.sk-toggleable__control:checked~div.sk-toggleable__content {max-height: 200px;max-width: 100%;overflow: auto;}#sk-container-id-5 input.sk-toggleable__control:checked~label.sk-toggleable__label-arrow:before {content: \"▾\";}#sk-container-id-5 div.sk-estimator input.sk-toggleable__control:checked~label.sk-toggleable__label {background-color: #d4ebff;}#sk-container-id-5 div.sk-label input.sk-toggleable__control:checked~label.sk-toggleable__label {background-color: #d4ebff;}#sk-container-id-5 input.sk-hidden--visually {border: 0;clip: rect(1px 1px 1px 1px);clip: rect(1px, 1px, 1px, 1px);height: 1px;margin: -1px;overflow: hidden;padding: 0;position: absolute;width: 1px;}#sk-container-id-5 div.sk-estimator {font-family: monospace;background-color: #f0f8ff;border: 1px dotted black;border-radius: 0.25em;box-sizing: border-box;margin-bottom: 0.5em;}#sk-container-id-5 div.sk-estimator:hover {background-color: #d4ebff;}#sk-container-id-5 div.sk-parallel-item::after {content: \"\";width: 100%;border-bottom: 1px solid gray;flex-grow: 1;}#sk-container-id-5 div.sk-label:hover label.sk-toggleable__label {background-color: #d4ebff;}#sk-container-id-5 div.sk-serial::before {content: \"\";position: absolute;border-left: 1px solid gray;box-sizing: border-box;top: 0;bottom: 0;left: 50%;z-index: 0;}#sk-container-id-5 div.sk-serial {display: flex;flex-direction: column;align-items: center;background-color: white;padding-right: 0.2em;padding-left: 0.2em;position: relative;}#sk-container-id-5 div.sk-item {position: relative;z-index: 1;}#sk-container-id-5 div.sk-parallel {display: flex;align-items: stretch;justify-content: center;background-color: white;position: relative;}#sk-container-id-5 div.sk-item::before, #sk-container-id-5 div.sk-parallel-item::before {content: \"\";position: absolute;border-left: 1px solid gray;box-sizing: border-box;top: 0;bottom: 0;left: 50%;z-index: -1;}#sk-container-id-5 div.sk-parallel-item {display: flex;flex-direction: column;z-index: 1;position: relative;background-color: white;}#sk-container-id-5 div.sk-parallel-item:first-child::after {align-self: flex-end;width: 50%;}#sk-container-id-5 div.sk-parallel-item:last-child::after {align-self: flex-start;width: 50%;}#sk-container-id-5 div.sk-parallel-item:only-child::after {width: 0;}#sk-container-id-5 div.sk-dashed-wrapped {border: 1px dashed gray;margin: 0 0.4em 0.5em 0.4em;box-sizing: border-box;padding-bottom: 0.4em;background-color: white;}#sk-container-id-5 div.sk-label label {font-family: monospace;font-weight: bold;display: inline-block;line-height: 1.2em;}#sk-container-id-5 div.sk-label-container {text-align: center;}#sk-container-id-5 div.sk-container {/* jupyter's `normalize.less` sets `[hidden] { display: none; }` but bootstrap.min.css set `[hidden] { display: none !important; }` so we also need the `!important` here to be able to override the default hidden behavior on the sphinx rendered scikit-learn.org. See: https://github.com/scikit-learn/scikit-learn/issues/21755 */display: inline-block !important;position: relative;}#sk-container-id-5 div.sk-text-repr-fallback {display: none;}</style><div id=\"sk-container-id-5\" class=\"sk-top-container\"><div class=\"sk-text-repr-fallback\"><pre>DecisionTreeRegressor(random_state=42)</pre><b>In a Jupyter environment, please rerun this cell to show the HTML representation or trust the notebook. <br />On GitHub, the HTML representation is unable to render, please try loading this page with nbviewer.org.</b></div><div class=\"sk-container\" hidden><div class=\"sk-item\"><div class=\"sk-estimator sk-toggleable\"><input class=\"sk-toggleable__control sk-hidden--visually\" id=\"sk-estimator-id-5\" type=\"checkbox\" checked><label for=\"sk-estimator-id-5\" class=\"sk-toggleable__label sk-toggleable__label-arrow\">DecisionTreeRegressor</label><div class=\"sk-toggleable__content\"><pre>DecisionTreeRegressor(random_state=42)</pre></div></div></div></div></div>"
      ],
      "text/plain": [
       "DecisionTreeRegressor(random_state=42)"
      ]
     },
     "execution_count": 61,
     "metadata": {},
     "output_type": "execute_result"
    }
   ],
   "source": [
    "#Aplicando Regressor de Árvore de Decisão\n",
    "tree_reg = DecisionTreeRegressor(random_state=RAND_SEED)\n",
    "tree_reg.fit(X_train_prepared, y_train)"
   ]
  },
  {
   "cell_type": "code",
   "execution_count": 62,
   "metadata": {},
   "outputs": [
    {
     "data": {
      "text/html": [
       "<style>#sk-container-id-6 {color: black;background-color: white;}#sk-container-id-6 pre{padding: 0;}#sk-container-id-6 div.sk-toggleable {background-color: white;}#sk-container-id-6 label.sk-toggleable__label {cursor: pointer;display: block;width: 100%;margin-bottom: 0;padding: 0.3em;box-sizing: border-box;text-align: center;}#sk-container-id-6 label.sk-toggleable__label-arrow:before {content: \"▸\";float: left;margin-right: 0.25em;color: #696969;}#sk-container-id-6 label.sk-toggleable__label-arrow:hover:before {color: black;}#sk-container-id-6 div.sk-estimator:hover label.sk-toggleable__label-arrow:before {color: black;}#sk-container-id-6 div.sk-toggleable__content {max-height: 0;max-width: 0;overflow: hidden;text-align: left;background-color: #f0f8ff;}#sk-container-id-6 div.sk-toggleable__content pre {margin: 0.2em;color: black;border-radius: 0.25em;background-color: #f0f8ff;}#sk-container-id-6 input.sk-toggleable__control:checked~div.sk-toggleable__content {max-height: 200px;max-width: 100%;overflow: auto;}#sk-container-id-6 input.sk-toggleable__control:checked~label.sk-toggleable__label-arrow:before {content: \"▾\";}#sk-container-id-6 div.sk-estimator input.sk-toggleable__control:checked~label.sk-toggleable__label {background-color: #d4ebff;}#sk-container-id-6 div.sk-label input.sk-toggleable__control:checked~label.sk-toggleable__label {background-color: #d4ebff;}#sk-container-id-6 input.sk-hidden--visually {border: 0;clip: rect(1px 1px 1px 1px);clip: rect(1px, 1px, 1px, 1px);height: 1px;margin: -1px;overflow: hidden;padding: 0;position: absolute;width: 1px;}#sk-container-id-6 div.sk-estimator {font-family: monospace;background-color: #f0f8ff;border: 1px dotted black;border-radius: 0.25em;box-sizing: border-box;margin-bottom: 0.5em;}#sk-container-id-6 div.sk-estimator:hover {background-color: #d4ebff;}#sk-container-id-6 div.sk-parallel-item::after {content: \"\";width: 100%;border-bottom: 1px solid gray;flex-grow: 1;}#sk-container-id-6 div.sk-label:hover label.sk-toggleable__label {background-color: #d4ebff;}#sk-container-id-6 div.sk-serial::before {content: \"\";position: absolute;border-left: 1px solid gray;box-sizing: border-box;top: 0;bottom: 0;left: 50%;z-index: 0;}#sk-container-id-6 div.sk-serial {display: flex;flex-direction: column;align-items: center;background-color: white;padding-right: 0.2em;padding-left: 0.2em;position: relative;}#sk-container-id-6 div.sk-item {position: relative;z-index: 1;}#sk-container-id-6 div.sk-parallel {display: flex;align-items: stretch;justify-content: center;background-color: white;position: relative;}#sk-container-id-6 div.sk-item::before, #sk-container-id-6 div.sk-parallel-item::before {content: \"\";position: absolute;border-left: 1px solid gray;box-sizing: border-box;top: 0;bottom: 0;left: 50%;z-index: -1;}#sk-container-id-6 div.sk-parallel-item {display: flex;flex-direction: column;z-index: 1;position: relative;background-color: white;}#sk-container-id-6 div.sk-parallel-item:first-child::after {align-self: flex-end;width: 50%;}#sk-container-id-6 div.sk-parallel-item:last-child::after {align-self: flex-start;width: 50%;}#sk-container-id-6 div.sk-parallel-item:only-child::after {width: 0;}#sk-container-id-6 div.sk-dashed-wrapped {border: 1px dashed gray;margin: 0 0.4em 0.5em 0.4em;box-sizing: border-box;padding-bottom: 0.4em;background-color: white;}#sk-container-id-6 div.sk-label label {font-family: monospace;font-weight: bold;display: inline-block;line-height: 1.2em;}#sk-container-id-6 div.sk-label-container {text-align: center;}#sk-container-id-6 div.sk-container {/* jupyter's `normalize.less` sets `[hidden] { display: none; }` but bootstrap.min.css set `[hidden] { display: none !important; }` so we also need the `!important` here to be able to override the default hidden behavior on the sphinx rendered scikit-learn.org. See: https://github.com/scikit-learn/scikit-learn/issues/21755 */display: inline-block !important;position: relative;}#sk-container-id-6 div.sk-text-repr-fallback {display: none;}</style><div id=\"sk-container-id-6\" class=\"sk-top-container\"><div class=\"sk-text-repr-fallback\"><pre>RandomForestRegressor(n_estimators=10, random_state=42)</pre><b>In a Jupyter environment, please rerun this cell to show the HTML representation or trust the notebook. <br />On GitHub, the HTML representation is unable to render, please try loading this page with nbviewer.org.</b></div><div class=\"sk-container\" hidden><div class=\"sk-item\"><div class=\"sk-estimator sk-toggleable\"><input class=\"sk-toggleable__control sk-hidden--visually\" id=\"sk-estimator-id-6\" type=\"checkbox\" checked><label for=\"sk-estimator-id-6\" class=\"sk-toggleable__label sk-toggleable__label-arrow\">RandomForestRegressor</label><div class=\"sk-toggleable__content\"><pre>RandomForestRegressor(n_estimators=10, random_state=42)</pre></div></div></div></div></div>"
      ],
      "text/plain": [
       "RandomForestRegressor(n_estimators=10, random_state=42)"
      ]
     },
     "execution_count": 62,
     "metadata": {},
     "output_type": "execute_result"
    }
   ],
   "source": [
    "#Aplicando Regressor de Floresta Randômica\n",
    "forest_reg = RandomForestRegressor(n_estimators=10, random_state=RAND_SEED)\n",
    "forest_reg.fit(X_train_prepared, y_train)"
   ]
  },
  {
   "cell_type": "markdown",
   "metadata": {},
   "source": [
    "### Cross Validation\n",
    "\n",
    "Vamos agora aplicar a cross validation de todos os modelos aplicados acima com a intenção de identificar aquele com melhor score."
   ]
  },
  {
   "cell_type": "code",
   "execution_count": 63,
   "metadata": {},
   "outputs": [],
   "source": [
    "from sklearn.model_selection import cross_val_score"
   ]
  },
  {
   "cell_type": "code",
   "execution_count": 64,
   "metadata": {},
   "outputs": [],
   "source": [
    "def display_scores(scores):\n",
    "    print('Scores:', scores.round(decimals=2))\n",
    "    print('Mean:', scores.mean())\n",
    "    print('Standard deviation:', scores.std())"
   ]
  },
  {
   "cell_type": "code",
   "execution_count": 65,
   "metadata": {},
   "outputs": [
    {
     "name": "stdout",
     "output_type": "stream",
     "text": [
      "Scores: [2.63 2.2  2.08 2.79 2.82 2.06 2.46 2.59 2.18 2.28]\n",
      "Mean: 2.409306962251581\n",
      "Standard deviation: 0.2718675706578767\n"
     ]
    }
   ],
   "source": [
    "#CrossVal Linear Regression\n",
    "lin_scores = cross_val_score(\n",
    "    lin_reg,  # modelo\n",
    "    X_train_prepared,  # X_train\n",
    "    y_train,  # y_train\n",
    "    scoring='neg_mean_squared_error',  # metrica de interesse\n",
    "    cv=10,  # Quantas partições eu quero\n",
    "    n_jobs=-1,  # Use todos os cores da maquina!\n",
    ")\n",
    "\n",
    "lin_rmse_scores = np.sqrt(-lin_scores)\n",
    "\n",
    "display_scores(lin_rmse_scores)"
   ]
  },
  {
   "cell_type": "code",
   "execution_count": 66,
   "metadata": {},
   "outputs": [
    {
     "name": "stdout",
     "output_type": "stream",
     "text": [
      "Scores: [3.99 4.89 4.35 4.37 3.35 4.75 4.08 5.03 3.44 4.69]\n",
      "Mean: 4.294787151303974\n",
      "Standard deviation: 0.5491057108391437\n"
     ]
    }
   ],
   "source": [
    "tree_scores = cross_val_score(\n",
    "    tree_reg,\n",
    "    X_train_prepared,\n",
    "    y_train,\n",
    "    scoring='neg_mean_squared_error',\n",
    "    cv=10,\n",
    "    n_jobs=-1,\n",
    ")\n",
    "\n",
    "tree_rmse_scores = np.sqrt(-tree_scores)\n",
    "\n",
    "display_scores(tree_rmse_scores)"
   ]
  },
  {
   "cell_type": "code",
   "execution_count": 67,
   "metadata": {},
   "outputs": [
    {
     "name": "stdout",
     "output_type": "stream",
     "text": [
      "Scores: [3.   3.79 4.56 3.99 2.63 3.27 2.78 4.05 2.94 2.98]\n",
      "Mean: 3.399656149723481\n",
      "Standard deviation: 0.6172273643311808\n"
     ]
    }
   ],
   "source": [
    "forest_scores = cross_val_score(\n",
    "    forest_reg,\n",
    "    X_train_prepared,\n",
    "    y_train,\n",
    "    scoring='neg_mean_squared_error',\n",
    "    cv=10,\n",
    "    n_jobs=-1,\n",
    ")\n",
    "\n",
    "forest_rmse_scores = np.sqrt(-forest_scores)\n",
    "\n",
    "display_scores(forest_rmse_scores)"
   ]
  },
  {
   "cell_type": "code",
   "execution_count": 68,
   "metadata": {},
   "outputs": [
    {
     "data": {
      "image/png": "[encoded data removed]",
      "text/plain": [
       "<Figure size 600x400 with 1 Axes>"
      ]
     },
     "metadata": {},
     "output_type": "display_data"
    }
   ],
   "source": [
    "pd.DataFrame({\n",
    "    'Linear': lin_rmse_scores,\n",
    "    'Decision Tree': tree_rmse_scores,\n",
    "    'Random Forest': forest_rmse_scores,\n",
    "}).plot.box(\n",
    "    xlabel='Regressor',\n",
    "    ylabel=r'RMSE $[\\mathtt{USD}]$',\n",
    "    figsize=(6, 4),\n",
    ");"
   ]
  },
  {
   "cell_type": "markdown",
   "metadata": {},
   "source": [
    "## Ajuste de Hiperparâmetros\n",
    "\n",
    "Sabendo agora qual o melhor regressor para o nosso modelo, podemos ajustar seus parâmetros para garantir o menor score de erro possível do nosso modelo para depois aplicar no nosso teste."
   ]
  },
  {
   "cell_type": "code",
   "execution_count": 69,
   "metadata": {},
   "outputs": [],
   "source": [
    "from sklearn.model_selection import GridSearchCV"
   ]
  },
  {
   "cell_type": "code",
   "execution_count": 70,
   "metadata": {},
   "outputs": [
    {
     "name": "stdout",
     "output_type": "stream",
     "text": [
      "{'poly__degree': 3}\n"
     ]
    }
   ],
   "source": [
    "pipe = Pipeline([\n",
    "    ('poly', PolynomialFeatures(degree=1)),\n",
    "    ('lin_reg', LinearRegression())\n",
    "    #('lin_reg', Ridge(alpha=ALPHA))\n",
    "])\n",
    "\n",
    "params = {\n",
    "    'poly__degree': [2,3]\n",
    "}\n",
    "\n",
    "clf_pipe = GridSearchCV(pipe, params, cv=5, n_jobs=-1)\n",
    "\n",
    "clf_pipe.fit(X_train_prepared, y_train)\n",
    "\n",
    "print(clf_pipe.best_params_)"
   ]
  },
  {
   "cell_type": "code",
   "execution_count": 71,
   "metadata": {},
   "outputs": [],
   "source": [
    "y_pred_pipeline = clf_pipe.predict(X_train_prepared)"
   ]
  },
  {
   "cell_type": "code",
   "execution_count": 72,
   "metadata": {},
   "outputs": [],
   "source": [
    "from sklearn.metrics import mean_squared_error"
   ]
  },
  {
   "cell_type": "code",
   "execution_count": 73,
   "metadata": {},
   "outputs": [
    {
     "name": "stdout",
     "output_type": "stream",
     "text": [
      "O erro do modelo com ajuste foi: 7.060268099536974e-14\n"
     ]
    }
   ],
   "source": [
    "erro = np.sqrt(mean_squared_error(y_train, y_pred_pipeline))\n",
    "\n",
    "print(f\"O erro do modelo com ajuste foi: {erro}\")"
   ]
  },
  {
   "cell_type": "code",
   "execution_count": 74,
   "metadata": {},
   "outputs": [
    {
     "name": "stdout",
     "output_type": "stream",
     "text": [
      "RMSE = 5.629583618369689\n"
     ]
    }
   ],
   "source": [
    "final_model = clf_pipe.best_estimator_\n",
    "\n",
    "X_test_prepared = full_pipeline.fit_transform(X_test)\n",
    "\n",
    "final_predictions = final_model.predict(X_test_prepared)\n",
    "\n",
    "final_mse = mean_squared_error(y_test, final_predictions)\n",
    "final_rmse = np.sqrt(final_mse)\n",
    "\n",
    "print(f'RMSE = {final_rmse}')"
   ]
  },
  {
   "cell_type": "code",
   "execution_count": null,
   "metadata": {},
   "outputs": [],
   "source": []
  }
 ],
 "metadata": {
  "kernelspec": {
   "display_name": "Python 3 (ipykernel)",
   "language": "python",
   "name": "python3"
  },
  "language_info": {
   "codemirror_mode": {
    "name": "ipython",
    "version": 3
   },
   "file_extension": ".py",
   "mimetype": "text/x-python",
   "name": "python",
   "nbconvert_exporter": "python",
   "pygments_lexer": "ipython3",
   "version": "3.9.2"
  },
  "vscode": {
   "interpreter": {
    "hash": "bdeac4265d6676956b5711f65e770bd5bd168a7400c108da4d427e95557d2ff7"
   }
  }
 },
 "nbformat": 4,
 "nbformat_minor": 2
}
